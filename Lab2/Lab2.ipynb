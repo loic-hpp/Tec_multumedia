{
 "cells": [
  {
   "cell_type": "markdown",
   "id": "de0444e0",
   "metadata": {},
   "source": [
    "### Installation des dépendances"
   ]
  },
  {
   "cell_type": "code",
   "execution_count": null,
   "id": "a1537b70",
   "metadata": {},
   "outputs": [],
   "source": [
    "%pip install numpy\n",
    "%pip install opencv-python\n",
    "%pip install -U matplotlib\n",
    "%pip install -U scikit-image\n",
    "import numpy as np\n",
    "import cv2 as cv\n",
    "import math\n",
    "import matplotlib.pyplot as py\n",
    "from numpy import linalg as LA\n",
    "from skimage.metrics import structural_similarity, peak_signal_noise_ratio\n",
    "import os\n",
    "import time"
   ]
  },
  {
   "cell_type": "markdown",
   "id": "622b4240",
   "metadata": {},
   "source": [
    "# Transformée de KL"
   ]
  },
  {
   "cell_type": "markdown",
   "id": "decb16af",
   "metadata": {},
   "source": [
    "### Lecture des fichiers images"
   ]
  },
  {
   "cell_type": "code",
   "execution_count": 87,
   "id": "99551716",
   "metadata": {},
   "outputs": [],
   "source": [
    "def plotImage(image, type):\n",
    "    figure = py.figure(figsize = (10,10))\n",
    "    imageout = np.clip(image,0,255)\n",
    "    imageout= imageout.astype(type)\n",
    "    py.imshow(imageout, cmap='gray')\n",
    "    py.show()"
   ]
  },
  {
   "cell_type": "code",
   "execution_count": 148,
   "id": "356a7ffe",
   "metadata": {},
   "outputs": [
    {
     "name": "stdout",
     "output_type": "stream",
     "text": [
      "(0.0008378388985290602, -35.23325357920414)\n"
     ]
    },
    {
     "name": "stderr",
     "output_type": "stream",
     "text": [
      "C:\\Users\\loicn\\AppData\\Local\\Temp\\ipykernel_34632\\3569422296.py:6: UserWarning: Inputs have mismatched dtype.  Setting data_range based on image_true.\n",
      "  psnr = peak_signal_noise_ratio(imageOriginale, imageCompressee)\n"
     ]
    }
   ],
   "source": [
    "\n",
    "# Read image\n",
    "dataPath = \"/data/\"\n",
    "currDirectory = os.getcwd()\n",
    "fileList = os.listdir(currDirectory + dataPath)\n",
    "quantificateur = [[8,8,8], [8,8,4], [8,8,0], [8,4,4]]\n",
    "qualiteCompressionRGB = []\n",
    "qualiteCompressionYUV = []\n",
    "\n",
    "for file in fileList:\n",
    "    imagePath = currDirectory + dataPath + file\n",
    "    img = py.imread(imagePath)\n",
    "    \n",
    "    if img is not None:\n",
    "        YUVimage = cv.cvtColor(img, cv.COLOR_RGB2YUV)\n",
    "        imageKLTransforme = compression(img, [8,8,8])\n",
    "        imageYUVKLTransforme = compression(YUVimage, [8,8,8])\n",
    "        # imageKLTransformeYUV = compression(YUVimage, [8,8,8]).astype('int8')\n",
    "        \n",
    "        print(qualiteCompression(img, imageYUVKLTransforme))\n",
    "        \n",
    "        # plotImage(imageKLTransformeYUV, 'int8')\n",
    "        break\n",
    "    \n",
    "   "
   ]
  },
  {
   "cell_type": "markdown",
   "id": "be7fdfa1",
   "metadata": {},
   "source": [
    "## Question 2\n",
    "### Implémentation de la transformée de KL \n",
    "### Quantification et recomposition de l'image"
   ]
  },
  {
   "cell_type": "code",
   "execution_count": 88,
   "id": "4c0e0f8c",
   "metadata": {},
   "outputs": [],
   "source": [
    "\n",
    "def compression(image, quantificateur: list):\n",
    "    # Calcul de la moyenne\n",
    "    sommeR = 0.0 \n",
    "    sommeG = 0.0 \n",
    "    sommeB = 0.0 \n",
    "    for i in range(len(image)):\n",
    "        for j in range(len(image[0])):\n",
    "            sommeR=sommeR+image[i][j][0]\n",
    "            sommeG=sommeG+image[i][j][1]\n",
    "            sommeB=sommeB+image[i][j][2]\n",
    "    nbPixels = len(image)*len(image[0])        \n",
    "    MoyR= sommeR / nbPixels\n",
    "    MoyG= sommeG / nbPixels\n",
    "    MoyB= sommeB / nbPixels\n",
    "    \n",
    "    # calcul de la matrice de covariance\n",
    "    covRGB = np.zeros((3,3), dtype = \"double\")\n",
    "    for i in range(len(image)):\n",
    "        for j in range(len(image[0])):\n",
    "            vecTemp=[[image[i][j][0] - MoyR], [image[i][j][1]] - MoyG, [image[i][j][2] - MoyB]]\n",
    "            vecProdTemp = np.dot(vecTemp,np.transpose(vecTemp))\n",
    "            covRGB = np.add(covRGB,vecProdTemp)\n",
    "    covRGB = covRGB / nbPixels  \n",
    "    \n",
    "    # Calcul des valeurs propres et vecteurs propres\n",
    "    eigval, eigvec = LA.eig(covRGB)\n",
    "    eigvec = np.transpose(eigvec)\n",
    "    \n",
    "    # retirer les axes principaux\n",
    "    eigvecsansAxe0 = np.copy(eigvec)\n",
    "    eigvecsansAxe0[0,:] = [0.0,0.0,0.0]\n",
    "    eigvecsansAxe1 = np.copy(eigvec)\n",
    "    eigvecsansAxe1[1,:] = [0.0,0.0,0.0]\n",
    "    eigvecsansAxe2 = np.copy(eigvec)\n",
    "    eigvecsansAxe2[2,:] = [0.0,0.0,0.0]\n",
    "\n",
    "    imageKLsansAxe0 = np.copy(image)\n",
    "    imageKLsansAxe1 = np.copy(image)\n",
    "    imageKLsansAxe2 = np.copy(image)\n",
    "\n",
    "    vecMoy =[[MoyR], [MoyG], [MoyB]] \n",
    "\n",
    "    for i in range(len(image)):\n",
    "        for j in range(len(image[0])):\n",
    "            vecTemp=[[image[i][j][0]], [image[i][j][1]], [image[i][j][2]]]\n",
    "            #a=Mb\n",
    "            imageKLsansAxe0[i][j][:] = np.reshape(np.dot(eigvecsansAxe0,np.subtract(vecTemp,vecMoy)),(3))\n",
    "            imageKLsansAxe1[i][j][:] = np.reshape(np.dot(eigvecsansAxe1,np.subtract(vecTemp,vecMoy)),(3))\n",
    "            imageKLsansAxe2[i][j][:] = np.reshape(np.dot(eigvecsansAxe2,np.subtract(vecTemp,vecMoy)),(3)) \n",
    "            \n",
    "    invEigvecsansAxe0 = LA.pinv(eigvecsansAxe0)\n",
    "    invEigvecsansAxe1 = LA.pinv(eigvecsansAxe1)\n",
    "    invEigvecsansAxe2 = LA.pinv(eigvecsansAxe2)\n",
    "\n",
    "    vecMoy =[MoyR, MoyG, MoyB] #TODO: verifier si c'est correct à quantifier peut-être\n",
    "    imageRGBsansAxe0 = np.copy(image)\n",
    "    imageRGBsansAxe1 = np.copy(image)\n",
    "    imageRGBsansAxe2 = np.copy(image)\n",
    "\n",
    "    for i in range(len(image)):\n",
    "        for j in range(len(image[0])):\n",
    "            #b=inv(M)a\n",
    "            vecTempsansAxe0=[[imageKLsansAxe0[i][j][0]], [imageKLsansAxe0[i][j][1]], [imageKLsansAxe0[i][j][2]]]\n",
    "            vecTempsansAxe1=[[imageKLsansAxe1[i][j][0]], [imageKLsansAxe1[i][j][1]], [imageKLsansAxe1[i][j][2]]]\n",
    "            vecTempsansAxe2=[[imageKLsansAxe2[i][j][0]], [imageKLsansAxe2[i][j][1]], [imageKLsansAxe2[i][j][2]]]     \n",
    "            imageRGBsansAxe0[i][j][:] = np.add(np.reshape(np.dot(invEigvecsansAxe0,vecTempsansAxe0),(3)),vecMoy)\n",
    "            imageRGBsansAxe1[i][j][:] = np.add(np.reshape(np.dot(invEigvecsansAxe1,vecTempsansAxe1),(3)),vecMoy)\n",
    "            imageRGBsansAxe2[i][j][:] = np.add(np.reshape(np.dot(invEigvecsansAxe2,vecTempsansAxe2),(3)),vecMoy)\n",
    "\n",
    "    # Quantification            \n",
    "    quantisansAxe0 = imageRGBsansAxe0.max() / math.pow(2, max(quantificateur[0]-1, 1))\n",
    "    quantisansAxe1 = imageRGBsansAxe1.max() / math.pow(2, max(quantificateur[1]-1, 1))\n",
    "    quantisansAxe2 = imageRGBsansAxe2.max() / math.pow(2, max(quantificateur[2]-1, 1))\n",
    "    \n",
    "    imageRGBsansAxe0 = np.floor(imageRGBsansAxe0 / quantisansAxe0)\n",
    "    imageRGBsansAxe1 = np.floor(imageRGBsansAxe1 / quantisansAxe1)\n",
    "    imageRGBsansAxe2 = np.floor(imageRGBsansAxe2 / quantisansAxe2)\n",
    "    \n",
    "    return imageRGBsansAxe2  "
   ]
  },
  {
   "cell_type": "code",
   "execution_count": 145,
   "id": "a2f0b47b",
   "metadata": {},
   "outputs": [],
   "source": [
    "def qualiteCompression(imageOriginale, imageCompressee):\n",
    "    imageOriginale = np.dot(imageOriginale[:,:], [0.299, 0.587, 0.114])\n",
    "    imageOriginale = imageOriginale.astype('double')\n",
    "    imageCompressee = np.dot(imageCompressee[:,:], [0.299, 0.587, 0.114])\n",
    "    imageCompressee = imageCompressee.astype('uint8')\n",
    "    psnr = peak_signal_noise_ratio(imageOriginale, imageCompressee)\n",
    "    ssim = structural_similarity(imageOriginale, imageCompressee, data_range=img.max() - img.min())\n",
    "    return ssim, psnr"
   ]
  }
 ],
 "metadata": {
  "kernelspec": {
   "display_name": "Python 3 (ipykernel)",
   "language": "python",
   "name": "python3"
  },
  "language_info": {
   "codemirror_mode": {
    "name": "ipython",
    "version": 3
   },
   "file_extension": ".py",
   "mimetype": "text/x-python",
   "name": "python",
   "nbconvert_exporter": "python",
   "pygments_lexer": "ipython3",
   "version": "3.11.8"
  }
 },
 "nbformat": 4,
 "nbformat_minor": 5
}
