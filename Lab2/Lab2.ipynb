{
 "cells": [
  {
   "cell_type": "markdown",
   "id": "de0444e0",
   "metadata": {},
   "source": [
    "### Installation des dépendances"
   ]
  },
  {
   "cell_type": "code",
   "execution_count": null,
   "id": "a1537b70",
   "metadata": {},
   "outputs": [],
   "source": [
    "%pip install numpy\n",
    "%pip install opencv-python\n",
    "%pip install -U matplotlib\n",
    "%pip install -U scikit-image\n",
    "import numpy as np\n",
    "import cv2 as cv\n",
    "import math\n",
    "import matplotlib.pyplot as py\n",
    "from numpy import linalg as LA\n",
    "from skimage.metrics import structural_similarity, peak_signal_noise_ratio\n",
    "import os\n",
    "import time"
   ]
  },
  {
   "cell_type": "markdown",
   "id": "622b4240",
   "metadata": {},
   "source": [
    "# Transformée de KL"
   ]
  },
  {
   "cell_type": "markdown",
   "id": "decb16af",
   "metadata": {},
   "source": [
    "### Lecture des fichiers images"
   ]
  },
  {
   "cell_type": "code",
   "execution_count": 87,
   "id": "99551716",
   "metadata": {},
   "outputs": [],
   "source": [
    "def plotImage(image, type):\n",
    "    figure = py.figure(figsize = (10,10))\n",
    "    imageout = np.clip(image,0,255)\n",
    "    imageout= imageout.astype(type)\n",
    "    py.imshow(imageout, cmap='gray')\n",
    "    py.show()"
   ]
  },
  {
   "cell_type": "code",
   "execution_count": 152,
   "id": "356a7ffe",
   "metadata": {},
   "outputs": [
    {
     "name": "stderr",
     "output_type": "stream",
     "text": [
      "C:\\Users\\loicn\\AppData\\Local\\Temp\\ipykernel_34632\\1820860134.py:6: UserWarning: Inputs have mismatched dtype.  Setting data_range based on image_true.\n",
      "  psnr = peak_signal_noise_ratio(imageOriginale, imageCompressee)\n"
     ]
    },
    {
     "name": "stdout",
     "output_type": "stream",
     "text": [
      "qualité de compression RGB : pour l'imagekodim01.png [(0.0002828962530074205, -34.491738338296884), (0.11435641048396585, -5.5059847563923325), (0.00268578206815842, 6.811307336521038), (0.11435641048396585, -5.5059847563923325)]\n",
      "qualité de compression YUV : pour l'imagekodim01.png [(0.0003113335793745662, -35.23056593144944), (0.13131838122635597, -6.944249649604983), (0.0003275455276684391, 6.726684777875798), (0.13131838122635597, -6.944249649604983)]\n",
      "qualité de compression RGB : pour l'imagekodim02.png [(0.0002690949813130911, -31.517365856052123), (0.24753711479462978, 0.10565966905394392), (0.0007578122672446558, 9.8564607294653), (0.24753711479462978, 0.10565966905394392)]\n",
      "qualité de compression YUV : pour l'imagekodim02.png [(0.00034355418035111554, -34.284901701118244), (0.11864884377865281, -6.64645449355087), (0.0005330348693686247, 7.648588138979502), (0.11864884377865281, -6.64645449355087)]\n",
      "qualité de compression RGB : pour l'imagekodim05.png [(0.00029422708325691014, -32.66040144834997), (0.13292675448432245, -3.6866030085228187), (0.0007285797905474375, 8.505740746182015), (0.13292675448432245, -3.6866030085228187)]\n",
      "qualité de compression YUV : pour l'imagekodim05.png [(0.0002460217541314816, -34.72258805181939), (0.12008968281619177, -6.24925215854719), (0.00036055364905278944, 7.195059327200645), (0.12008968281619177, -6.24925215854719)]\n",
      "qualité de compression RGB : pour l'imagekodim13.png [(0.0002762109970778071, -35.02975921920894), (0.10064894078710196, -6.566887468884778), (0.006794736569044028, 6.658822319351381), (0.10064894078710196, -6.566887468884778)]\n",
      "qualité de compression YUV : pour l'imagekodim13.png [(0.00023703959744364854, -35.07324779309406), (0.08276164353117609, -7.03611423692379), (0.0003319106841610841, 6.855460348733066), (0.08276164353117609, -7.03611423692379)]\n",
      "qualité de compression RGB : pour l'imagekodim23.png [(0.00031430326584955785, -34.372296127298874), (0.21405567439435147, -5.825236415008162), (0.000625880011342644, 6.628982163362588), (0.21405567439435147, -5.825236415008162)]\n",
      "qualité de compression YUV : pour l'imagekodim23.png [(0.00048496946517998305, -35.03402329491077), (0.23376547262586983, -6.535966233820618), (0.0004812200617151653, 6.943587547277762), (0.23376547262586983, -6.535966233820618)]\n"
     ]
    }
   ],
   "source": [
    "\n",
    "# Read image\n",
    "dataPath = \"/data/\"\n",
    "currDirectory = os.getcwd()\n",
    "fileList = os.listdir(currDirectory + dataPath)\n",
    "quantificateur = [[8,8,8], [8,8,4], [8,8,0], [8,4,0]]\n",
    "qualiteCompressionRGB = []\n",
    "qualiteCompressionYUV = []\n",
    "\n",
    "for file in fileList:\n",
    "    imagePath = currDirectory + dataPath + file\n",
    "    img = py.imread(imagePath)\n",
    "    \n",
    "    if img is not None:\n",
    "        YUVimage = cv.cvtColor(img, cv.COLOR_RGB2YUV)\n",
    "        for q in quantificateur:\n",
    "            imageKLTransforme = compression(img, q)\n",
    "            imageYUVKLTransforme = compression(YUVimage, q)\n",
    "            qualiteCompressionRGB.append(qualiteCompression(img, imageKLTransforme))\n",
    "            qualiteCompressionYUV.append(qualiteCompression(YUVimage, imageYUVKLTransforme))\n",
    "            \n",
    "        print(\"qualité de compression RGB : pour l'image \" + file, qualiteCompressionRGB)\n",
    "        qualiteCompressionRGB = []\n",
    "        print(\"qualité de compression YUV : pour l'image \" + file, qualiteCompressionYUV)\n",
    "        qualiteCompressionYUV = []\n",
    "    \n",
    "   "
   ]
  },
  {
   "cell_type": "markdown",
   "id": "be7fdfa1",
   "metadata": {},
   "source": [
    "## Question 2\n",
    "### Implémentation de la transformée de KL \n",
    "### Quantification et recomposition de l'image"
   ]
  },
  {
   "cell_type": "code",
   "execution_count": 88,
   "id": "4c0e0f8c",
   "metadata": {},
   "outputs": [],
   "source": [
    "\n",
    "def compression(image, quantificateur: list):\n",
    "    # Calcul de la moyenne\n",
    "    sommeR = 0.0 \n",
    "    sommeG = 0.0 \n",
    "    sommeB = 0.0 \n",
    "    for i in range(len(image)):\n",
    "        for j in range(len(image[0])):\n",
    "            sommeR=sommeR+image[i][j][0]\n",
    "            sommeG=sommeG+image[i][j][1]\n",
    "            sommeB=sommeB+image[i][j][2]\n",
    "    nbPixels = len(image)*len(image[0])        \n",
    "    MoyR= sommeR / nbPixels\n",
    "    MoyG= sommeG / nbPixels\n",
    "    MoyB= sommeB / nbPixels\n",
    "    \n",
    "    # calcul de la matrice de covariance\n",
    "    covRGB = np.zeros((3,3), dtype = \"double\")\n",
    "    for i in range(len(image)):\n",
    "        for j in range(len(image[0])):\n",
    "            vecTemp=[[image[i][j][0] - MoyR], [image[i][j][1]] - MoyG, [image[i][j][2] - MoyB]]\n",
    "            vecProdTemp = np.dot(vecTemp,np.transpose(vecTemp))\n",
    "            covRGB = np.add(covRGB,vecProdTemp)\n",
    "    covRGB = covRGB / nbPixels  \n",
    "    \n",
    "    # Calcul des valeurs propres et vecteurs propres\n",
    "    eigval, eigvec = LA.eig(covRGB)\n",
    "    eigvec = np.transpose(eigvec)\n",
    "    \n",
    "    # retirer les axes principaux\n",
    "    eigvecsansAxe0 = np.copy(eigvec)\n",
    "    eigvecsansAxe0[0,:] = [0.0,0.0,0.0]\n",
    "    eigvecsansAxe1 = np.copy(eigvec)\n",
    "    eigvecsansAxe1[1,:] = [0.0,0.0,0.0]\n",
    "    eigvecsansAxe2 = np.copy(eigvec)\n",
    "    eigvecsansAxe2[2,:] = [0.0,0.0,0.0]\n",
    "\n",
    "    imageKLsansAxe0 = np.copy(image)\n",
    "    imageKLsansAxe1 = np.copy(image)\n",
    "    imageKLsansAxe2 = np.copy(image)\n",
    "\n",
    "    vecMoy =[[MoyR], [MoyG], [MoyB]] \n",
    "\n",
    "    for i in range(len(image)):\n",
    "        for j in range(len(image[0])):\n",
    "            vecTemp=[[image[i][j][0]], [image[i][j][1]], [image[i][j][2]]]\n",
    "            #a=Mb\n",
    "            imageKLsansAxe0[i][j][:] = np.reshape(np.dot(eigvecsansAxe0,np.subtract(vecTemp,vecMoy)),(3))\n",
    "            imageKLsansAxe1[i][j][:] = np.reshape(np.dot(eigvecsansAxe1,np.subtract(vecTemp,vecMoy)),(3))\n",
    "            imageKLsansAxe2[i][j][:] = np.reshape(np.dot(eigvecsansAxe2,np.subtract(vecTemp,vecMoy)),(3)) \n",
    "            \n",
    "    invEigvecsansAxe0 = LA.pinv(eigvecsansAxe0)\n",
    "    invEigvecsansAxe1 = LA.pinv(eigvecsansAxe1)\n",
    "    invEigvecsansAxe2 = LA.pinv(eigvecsansAxe2)\n",
    "\n",
    "    vecMoy =[MoyR, MoyG, MoyB] #TODO: verifier si c'est correct à quantifier peut-être\n",
    "    imageRGBsansAxe0 = np.copy(image)\n",
    "    imageRGBsansAxe1 = np.copy(image)\n",
    "    imageRGBsansAxe2 = np.copy(image)\n",
    "\n",
    "    for i in range(len(image)):\n",
    "        for j in range(len(image[0])):\n",
    "            #b=inv(M)a\n",
    "            vecTempsansAxe0=[[imageKLsansAxe0[i][j][0]], [imageKLsansAxe0[i][j][1]], [imageKLsansAxe0[i][j][2]]]\n",
    "            vecTempsansAxe1=[[imageKLsansAxe1[i][j][0]], [imageKLsansAxe1[i][j][1]], [imageKLsansAxe1[i][j][2]]]\n",
    "            vecTempsansAxe2=[[imageKLsansAxe2[i][j][0]], [imageKLsansAxe2[i][j][1]], [imageKLsansAxe2[i][j][2]]]     \n",
    "            imageRGBsansAxe0[i][j][:] = np.add(np.reshape(np.dot(invEigvecsansAxe0,vecTempsansAxe0),(3)),vecMoy)\n",
    "            imageRGBsansAxe1[i][j][:] = np.add(np.reshape(np.dot(invEigvecsansAxe1,vecTempsansAxe1),(3)),vecMoy)\n",
    "            imageRGBsansAxe2[i][j][:] = np.add(np.reshape(np.dot(invEigvecsansAxe2,vecTempsansAxe2),(3)),vecMoy)\n",
    "\n",
    "    # Quantification            \n",
    "    quantisansAxe0 = imageRGBsansAxe0.max() / math.pow(2, max(quantificateur[0]-1, 1))\n",
    "    quantisansAxe1 = imageRGBsansAxe1.max() / math.pow(2, max(quantificateur[1]-1, 1))\n",
    "    quantisansAxe2 = imageRGBsansAxe2.max() / math.pow(2, max(quantificateur[2]-1, 1))\n",
    "    \n",
    "    imageRGBsansAxe0 = np.floor(imageRGBsansAxe0 / quantisansAxe0)\n",
    "    imageRGBsansAxe1 = np.floor(imageRGBsansAxe1 / quantisansAxe1)\n",
    "    imageRGBsansAxe2 = np.floor(imageRGBsansAxe2 / quantisansAxe2)\n",
    "    \n",
    "    return imageRGBsansAxe2  "
   ]
  },
  {
   "cell_type": "code",
   "execution_count": 151,
   "id": "a2f0b47b",
   "metadata": {},
   "outputs": [],
   "source": [
    "def qualiteCompression(imageOriginale, imageCompressee):\n",
    "    imageOriginale = np.dot(imageOriginale[:,:], [0.299, 0.587, 0.114])\n",
    "    imageOriginale = imageOriginale.astype('double')\n",
    "    imageCompressee = np.dot(imageCompressee[:,:], [0.299, 0.587, 0.114])\n",
    "    imageCompressee = imageCompressee.astype('int8')\n",
    "    psnr = peak_signal_noise_ratio(imageOriginale, imageCompressee)\n",
    "    ssim = structural_similarity(imageOriginale, imageCompressee, data_range=img.max() - img.min())\n",
    "    return ssim, psnr"
   ]
  }
 ],
 "metadata": {
  "kernelspec": {
   "display_name": "Python 3 (ipykernel)",
   "language": "python",
   "name": "python3"
  },
  "language_info": {
   "codemirror_mode": {
    "name": "ipython",
    "version": 3
   },
   "file_extension": ".py",
   "mimetype": "text/x-python",
   "name": "python",
   "nbconvert_exporter": "python",
   "pygments_lexer": "ipython3",
   "version": "3.11.8"
  }
 },
 "nbformat": 4,
 "nbformat_minor": 5
}
