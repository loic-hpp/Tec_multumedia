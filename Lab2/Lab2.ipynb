{
 "cells": [
  {
   "cell_type": "markdown",
   "id": "de0444e0",
   "metadata": {},
   "source": [
    "### Installation des dépendances"
   ]
  },
  {
   "cell_type": "code",
   "execution_count": null,
   "id": "a1537b70",
   "metadata": {},
   "outputs": [],
   "source": [
    "%pip install numpy\n",
    "%pip install opencv-python\n",
    "%pip install -U matplotlib\n",
    "%pip install -U scikit-image\n",
    "import numpy as np\n",
    "import cv2 as cv\n",
    "import math\n",
    "import matplotlib.pyplot as py\n",
    "from numpy import linalg as LA\n",
    "from skimage.metrics import structural_similarity, peak_signal_noise_ratio\n",
    "import os\n",
    "import time"
   ]
  },
  {
   "cell_type": "markdown",
   "id": "622b4240",
   "metadata": {},
   "source": [
    "# Transformée de KL"
   ]
  },
  {
   "cell_type": "markdown",
   "id": "decb16af",
   "metadata": {},
   "source": [
    "### Lecture des fichiers images"
   ]
  },
  {
   "cell_type": "code",
   "execution_count": 87,
   "id": "99551716",
   "metadata": {},
   "outputs": [],
   "source": [
    "def plotImage(image, type):\n",
    "    figure = py.figure(figsize = (10,10))\n",
    "    imageout = np.clip(image,0,255)\n",
    "    imageout= imageout.astype(type)\n",
    "    py.imshow(imageout, cmap='gray')\n",
    "    py.show()"
   ]
  },
  {
   "cell_type": "code",
   "execution_count": 218,
   "id": "356a7ffe",
   "metadata": {},
   "outputs": [
    {
     "name": "stdout",
     "output_type": "stream",
     "text": [
      "qualité de compression RGB : pour l'image kodim01.png [(0.833, 19.109), (0.829, 18.943), (0.829, 18.951), (0.826, 18.936)]\n",
      "qualité de compression YUV : pour l'image kodim01.png [(0.79, 23.13), (0.791, 23.123), (0.791, 23.123), (0.784, 23.092)]\n",
      "qualité de compression RGB : pour l'image kodim02.png [(0.944, 22.586), (0.943, 22.584), (0.943, 22.576), (0.943, 22.526)]\n",
      "qualité de compression YUV : pour l'image kodim02.png [(0.977, 27.301), (0.976, 27.276), (0.976, 27.276), (0.975, 27.066)]\n",
      "qualité de compression RGB : pour l'image kodim05.png [(0.741, 16.079), (0.739, 16.067), (0.726, 16.018), (0.713, 15.955)]\n",
      "qualité de compression YUV : pour l'image kodim05.png [(0.883, 23.294), (0.881, 23.259), (0.86, 22.641), (0.861, 22.63)]\n",
      "qualité de compression RGB : pour l'image kodim13.png [(0.799, 15.195), (0.789, 15.174), (0.738, 15.036), (0.735, 15.034)]\n",
      "qualité de compression YUV : pour l'image kodim13.png [(0.794, 22.999), (0.781, 22.949), (0.779, 22.947), (0.77, 22.893)]\n",
      "qualité de compression RGB : pour l'image kodim23.png [(0.789, 15.128), (0.772, 15.029), (0.69, 14.7), (0.682, 14.77)]\n",
      "qualité de compression YUV : pour l'image kodim23.png [(0.693, 22.439), (0.692, 22.408), (0.619, 20.45), (0.617, 20.436)]\n"
     ]
    }
   ],
   "source": [
    "\n",
    "# Read image\n",
    "dataPath = \"/data/\"\n",
    "currDirectory = os.getcwd()\n",
    "fileList = os.listdir(currDirectory + dataPath)\n",
    "quantificateur = [[8,8,8], [8,8,4], [8,8,0], [8,4,0]]\n",
    "qualiteCompressionRGB = []\n",
    "qualiteCompressionYUV = []\n",
    "\n",
    "for file in fileList:\n",
    "    imagePath = currDirectory + dataPath + file\n",
    "    # img = py.imread(imagePath)\n",
    "    img = cv.imread(imagePath)\n",
    "    img = cv.cvtColor(img, cv.COLOR_BGR2RGB)\n",
    "    \n",
    "    if img is not None:\n",
    "        YUVimage = cv.cvtColor(img, cv.COLOR_RGB2YUV)\n",
    "        for q in quantificateur:\n",
    "            imageKLTransforme = compression(img, q)\n",
    "            imageYUVKLTransforme = compression(YUVimage, q)\n",
    "            qualiteCompressionRGB.append(qualiteCompression(img, imageKLTransforme))\n",
    "            qualiteCompressionYUV.append(qualiteCompression(YUVimage, imageYUVKLTransforme))\n",
    "            # break\n",
    "            \n",
    "        print(\"qualité de compression RGB : pour l'image \" + file, qualiteCompressionRGB)\n",
    "        qualiteCompressionRGB = []\n",
    "        print(\"qualité de compression YUV : pour l'image \" + file, qualiteCompressionYUV)\n",
    "        qualiteCompressionYUV = []\n",
    "        # plotImage(img, 'uint8')\n",
    "        # plotImage(imageKLTransforme, 'uint8')\n",
    "        # break\n",
    "    \n",
    "   "
   ]
  },
  {
   "cell_type": "markdown",
   "id": "be7fdfa1",
   "metadata": {},
   "source": [
    "## Question 2\n",
    "### Implémentation de la transformée de KL \n",
    "### Quantification et recomposition de l'image"
   ]
  },
  {
   "cell_type": "code",
   "execution_count": 217,
   "id": "4c0e0f8c",
   "metadata": {},
   "outputs": [],
   "source": [
    "def compression(image, quantificateur: list):\n",
    "    # Calcul de la moyenne\n",
    "    sommeR = 0.0 \n",
    "    sommeG = 0.0 \n",
    "    sommeB = 0.0 \n",
    "    for i in range(len(image)):\n",
    "        for j in range(len(image[0])):\n",
    "            sommeR=sommeR+image[i][j][0]\n",
    "            sommeG=sommeG+image[i][j][1]\n",
    "            sommeB=sommeB+image[i][j][2]\n",
    "    nbPixels = len(image)*len(image[0])        \n",
    "    MoyR= sommeR / nbPixels\n",
    "    MoyG= sommeG / nbPixels\n",
    "    MoyB= sommeB / nbPixels\n",
    "    \n",
    "    # calcul de la matrice de covariance\n",
    "    covRGB = np.zeros((3,3), dtype = \"double\")\n",
    "    for i in range(len(image)):\n",
    "        for j in range(len(image[0])):\n",
    "            vecTemp=[[image[i][j][0] - MoyR], [image[i][j][1]] - MoyG, [image[i][j][2] - MoyB]]\n",
    "            vecProdTemp = np.dot(vecTemp,np.transpose(vecTemp))\n",
    "            covRGB = np.add(covRGB,vecProdTemp)\n",
    "    covRGB = covRGB / nbPixels  \n",
    "    \n",
    "    # Calcul des valeurs propres et vecteurs propres\n",
    "    eigval, eigvec = LA.eig(covRGB)\n",
    "    eigvec = np.transpose(eigvec)\n",
    "    \n",
    "    image_reshaped = image.reshape(-1, 3)  \n",
    "    image_centered = image_reshaped - np.array([MoyR, MoyG, MoyB])\n",
    "    \n",
    "    imageKL = np.dot(image_centered, eigvec.T)  \n",
    "    imageKL = imageKL.reshape(image.shape) \n",
    "\n",
    "    vecMoy = [[MoyR], [MoyG], [MoyB]]\n",
    "\n",
    "    for i in range(len(image)):\n",
    "        for j in range(len(image[0])):\n",
    "            vecTemp = [[image[i][j][0]], [image[i][j][1]], [image[i][j][2]]]\n",
    "            # a=Mb\n",
    "            imageKL[i][j][:] = np.reshape(np.dot(eigvec, np.subtract(vecTemp, vecMoy)), (3))\n",
    "\n",
    "    # Quantification\n",
    "    imageKLQuantifie = quantize_image(imageKL, quantificateur)\n",
    "    \n",
    "    # convertir image KL quantifiée en image RGB\n",
    "    imageReconvertie = np.copy(imageKLQuantifie)\n",
    "    inv_eigvec = np.linalg.inv(eigvec)\n",
    "    for i in range(len(imageKLQuantifie)):\n",
    "        for j in range(len(imageKLQuantifie[0])):\n",
    "            vecTemp = imageKLQuantifie[i, j].reshape(-1, 1)\n",
    "            imageReconvertie[i, j] = np.dot(inv_eigvec, vecTemp).reshape(3) + np.array(vecMoy).reshape(3) \n",
    "                \n",
    "    \n",
    "    return imageReconvertie  "
   ]
  },
  {
   "cell_type": "code",
   "execution_count": 208,
   "id": "a2f0b47b",
   "metadata": {},
   "outputs": [],
   "source": [
    "def qualiteCompression(imageOriginale, imageCompressee):\n",
    "    psnr = peak_signal_noise_ratio(imageOriginale, imageCompressee)\n",
    "    ssim = structural_similarity(imageOriginale, imageCompressee,  win_size=3, data_range=img.max() - img.min())\n",
    "    return round(ssim, 3), round(psnr, 3)"
   ]
  },
  {
   "cell_type": "code",
   "execution_count": 191,
   "id": "71657a2e",
   "metadata": {},
   "outputs": [],
   "source": [
    "def quantize_channel(channel, num_bits):\n",
    "    num_levels = 2 ** num_bits\n",
    "\n",
    "    quantization_interval = 256 / num_levels\n",
    "\n",
    "    quantized_channel = np.round(channel / quantization_interval) * quantization_interval\n",
    "\n",
    "    quantized_channel = np.clip(quantized_channel, 0, 255)\n",
    "\n",
    "    return quantized_channel.astype(np.uint8)\n",
    "\n",
    "def quantize_image(image, num_bits):\n",
    "    r_channel, g_channel, b_channel = image[:,:,0], image[:,:,1], image[:,:,2]\n",
    "\n",
    "    quantized_r = quantize_channel(r_channel, num_bits[0])\n",
    "    quantized_g = quantize_channel(g_channel, num_bits[1])\n",
    "    quantized_b = quantize_channel(b_channel, num_bits[2])\n",
    "\n",
    "    quantized_image = np.stack((quantized_r, quantized_g, quantized_b), axis=-1)\n",
    "\n",
    "    return quantized_image"
   ]
  }
 ],
 "metadata": {
  "kernelspec": {
   "display_name": "Python 3 (ipykernel)",
   "language": "python",
   "name": "python3"
  },
  "language_info": {
   "codemirror_mode": {
    "name": "ipython",
    "version": 3
   },
   "file_extension": ".py",
   "mimetype": "text/x-python",
   "name": "python",
   "nbconvert_exporter": "python",
   "pygments_lexer": "ipython3",
   "version": "3.11.8"
  }
 },
 "nbformat": 4,
 "nbformat_minor": 5
}
