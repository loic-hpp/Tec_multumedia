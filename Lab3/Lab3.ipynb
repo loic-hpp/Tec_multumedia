{
 "cells": [
  {
   "cell_type": "markdown",
   "metadata": {},
   "source": [
    "### Installation des dépendances"
   ]
  },
  {
   "cell_type": "code",
   "execution_count": 107,
   "metadata": {},
   "outputs": [
    {
     "name": "stdout",
     "output_type": "stream",
     "text": [
      "Requirement already satisfied: numpy in c:\\users\\loicn\\appdata\\local\\packages\\pythonsoftwarefoundation.python.3.11_qbz5n2kfra8p0\\localcache\\local-packages\\python311\\site-packages (1.26.3)\n",
      "Note: you may need to restart the kernel to use updated packages.\n"
     ]
    },
    {
     "name": "stderr",
     "output_type": "stream",
     "text": [
      "\n",
      "[notice] A new release of pip is available: 23.3.2 -> 24.0\n",
      "[notice] To update, run: C:\\Users\\loicn\\AppData\\Local\\Microsoft\\WindowsApps\\PythonSoftwareFoundation.Python.3.11_qbz5n2kfra8p0\\python.exe -m pip install --upgrade pip\n"
     ]
    },
    {
     "name": "stdout",
     "output_type": "stream",
     "text": [
      "Requirement already satisfied: opencv-python in c:\\users\\loicn\\appdata\\local\\packages\\pythonsoftwarefoundation.python.3.11_qbz5n2kfra8p0\\localcache\\local-packages\\python311\\site-packages (4.9.0.80)\n",
      "Requirement already satisfied: numpy>=1.21.2 in c:\\users\\loicn\\appdata\\local\\packages\\pythonsoftwarefoundation.python.3.11_qbz5n2kfra8p0\\localcache\\local-packages\\python311\\site-packages (from opencv-python) (1.26.3)\n",
      "Note: you may need to restart the kernel to use updated packages.\n"
     ]
    },
    {
     "name": "stderr",
     "output_type": "stream",
     "text": [
      "\n",
      "[notice] A new release of pip is available: 23.3.2 -> 24.0\n",
      "[notice] To update, run: C:\\Users\\loicn\\AppData\\Local\\Microsoft\\WindowsApps\\PythonSoftwareFoundation.Python.3.11_qbz5n2kfra8p0\\python.exe -m pip install --upgrade pip\n"
     ]
    },
    {
     "name": "stdout",
     "output_type": "stream",
     "text": [
      "Requirement already satisfied: matplotlib in c:\\users\\loicn\\appdata\\local\\packages\\pythonsoftwarefoundation.python.3.11_qbz5n2kfra8p0\\localcache\\local-packages\\python311\\site-packages (3.8.3)\n",
      "Requirement already satisfied: contourpy>=1.0.1 in c:\\users\\loicn\\appdata\\local\\packages\\pythonsoftwarefoundation.python.3.11_qbz5n2kfra8p0\\localcache\\local-packages\\python311\\site-packages (from matplotlib) (1.2.0)\n",
      "Requirement already satisfied: cycler>=0.10 in c:\\users\\loicn\\appdata\\local\\packages\\pythonsoftwarefoundation.python.3.11_qbz5n2kfra8p0\\localcache\\local-packages\\python311\\site-packages (from matplotlib) (0.12.1)\n",
      "Requirement already satisfied: fonttools>=4.22.0 in c:\\users\\loicn\\appdata\\local\\packages\\pythonsoftwarefoundation.python.3.11_qbz5n2kfra8p0\\localcache\\local-packages\\python311\\site-packages (from matplotlib) (4.48.1)\n",
      "Requirement already satisfied: kiwisolver>=1.3.1 in c:\\users\\loicn\\appdata\\local\\packages\\pythonsoftwarefoundation.python.3.11_qbz5n2kfra8p0\\localcache\\local-packages\\python311\\site-packages (from matplotlib) (1.4.5)\n",
      "Requirement already satisfied: numpy<2,>=1.21 in c:\\users\\loicn\\appdata\\local\\packages\\pythonsoftwarefoundation.python.3.11_qbz5n2kfra8p0\\localcache\\local-packages\\python311\\site-packages (from matplotlib) (1.26.3)\n",
      "Requirement already satisfied: packaging>=20.0 in c:\\users\\loicn\\appdata\\local\\packages\\pythonsoftwarefoundation.python.3.11_qbz5n2kfra8p0\\localcache\\local-packages\\python311\\site-packages (from matplotlib) (23.2)\n",
      "Requirement already satisfied: pillow>=8 in c:\\users\\loicn\\appdata\\local\\packages\\pythonsoftwarefoundation.python.3.11_qbz5n2kfra8p0\\localcache\\local-packages\\python311\\site-packages (from matplotlib) (10.2.0)\n",
      "Requirement already satisfied: pyparsing>=2.3.1 in c:\\users\\loicn\\appdata\\local\\packages\\pythonsoftwarefoundation.python.3.11_qbz5n2kfra8p0\\localcache\\local-packages\\python311\\site-packages (from matplotlib) (3.1.1)\n",
      "Requirement already satisfied: python-dateutil>=2.7 in c:\\users\\loicn\\appdata\\local\\packages\\pythonsoftwarefoundation.python.3.11_qbz5n2kfra8p0\\localcache\\local-packages\\python311\\site-packages (from matplotlib) (2.8.2)\n",
      "Requirement already satisfied: six>=1.5 in c:\\users\\loicn\\appdata\\local\\packages\\pythonsoftwarefoundation.python.3.11_qbz5n2kfra8p0\\localcache\\local-packages\\python311\\site-packages (from python-dateutil>=2.7->matplotlib) (1.16.0)\n",
      "Note: you may need to restart the kernel to use updated packages.\n"
     ]
    },
    {
     "name": "stderr",
     "output_type": "stream",
     "text": [
      "\n",
      "[notice] A new release of pip is available: 23.3.2 -> 24.0\n",
      "[notice] To update, run: C:\\Users\\loicn\\AppData\\Local\\Microsoft\\WindowsApps\\PythonSoftwareFoundation.Python.3.11_qbz5n2kfra8p0\\python.exe -m pip install --upgrade pip\n"
     ]
    }
   ],
   "source": [
    "%pip install numpy\n",
    "%pip install opencv-python\n",
    "%pip install -U matplotlib\n",
    "import numpy as np\n",
    "import cv2 as cv\n",
    "from matplotlib import pyplot as plt\n",
    "import math\n",
    "import os\n",
    "import time"
   ]
  },
  {
   "cell_type": "code",
   "execution_count": 108,
   "metadata": {},
   "outputs": [],
   "source": [
    "# Define Constants\n",
    "STEP_TO_NEXT_FRAME = 4 \n",
    "\"\"\" in each video, we will read 1 frame every 24/STEP_TO_INDEX frames\"\"\"\n",
    "DEBUG = False # if True, print debug information\n",
    "NUMBER_OF_VIDEO = 100 # number of videos to index\n",
    "MAX_FRAME_INDEXATION_TIME = 3 # in seconds\n",
    "MAX_SEARCH_TIME = 0.1 # in seconds\n",
    "VIDEOS_SIZE_ON_DISK = 444039168  # in octets\n",
    "MAX_FRAME_NUMBER = 37895 # maximum number of frames in a video\n",
    "N = int(MAX_FRAME_NUMBER/STEP_TO_NEXT_FRAME) # index Length\n",
    "D = 128 # index Depth"
   ]
  },
  {
   "cell_type": "code",
   "execution_count": 109,
   "metadata": {},
   "outputs": [],
   "source": [
    "#Define all global variables\n",
    "imageList = []\n",
    "videoList = []\n",
    "frameIndexationTime = [] # Time must be in seconds\n",
    "imageSearchTime = [] # Time must be in seconds\n",
    "imageCompressionRateList = []\n",
    "videoCompressionRateList = []\n",
    "indexationTable = [] # Table of indexation\n",
    "Descriptor_list = np.empty((N, D * 3), dtype=np.float32) # Descriptor of the image"
   ]
  },
  {
   "cell_type": "markdown",
   "metadata": {},
   "source": [
    "### Lecture des fichiers"
   ]
  },
  {
   "cell_type": "code",
   "execution_count": 110,
   "metadata": {},
   "outputs": [],
   "source": [
    "imagePath = \"/data/jpeg/\"\n",
    "videoPath = \"/data/mp4/\"\n",
    "currDirectory = os.getcwd()\n",
    "imageList = os.listdir(currDirectory + imagePath)\n",
    "videoList = os.listdir(currDirectory + videoPath)\n",
    "# for file in imageList:\n",
    "#     filePath = currDirectory + dataPath + file\n",
    "#     img = cv.imread(filePath, cv.IMREAD_COLOR)"
   ]
  },
  {
   "cell_type": "code",
   "execution_count": 111,
   "metadata": {},
   "outputs": [],
   "source": [
    "def getVideoParameter(videoPath:str):\n",
    "    \"\"\"return the frame rate and the number of frames of the video.\"\"\"\n",
    "    cap = cv.VideoCapture(videoPath)\n",
    "    fps = cap.get(cv.CAP_PROP_FPS)\n",
    "    frame_count = cap.get(cv.CAP_PROP_FRAME_COUNT)\n",
    "    return fps, frame_count\n",
    "    "
   ]
  },
  {
   "cell_type": "code",
   "execution_count": 112,
   "metadata": {},
   "outputs": [],
   "source": [
    "def displayRGBHistogram(histogram_r, histogram_g, histogram_b):\n",
    "    plt.plot(histogram_b, color='blue', label='Canal bleu')\n",
    "    plt.plot(histogram_g, color='green', label='Canal vert')\n",
    "    plt.plot(histogram_r, color='red', label='Canal rouge')\n",
    "    plt.xlabel('Intensité des pixels')\n",
    "    plt.ylabel('Nombre de pixels')\n",
    "    plt.title('Histogramme de l\\'image')\n",
    "    plt.legend()\n",
    "    plt.show()"
   ]
  },
  {
   "cell_type": "code",
   "execution_count": 113,
   "metadata": {},
   "outputs": [],
   "source": [
    "\n",
    "def convertImageToVector(imagePath, needToRead:bool = True):\n",
    "    \"\"\"return the histogram of the image.\"\"\"\n",
    "    if needToRead:\n",
    "        image = cv.imread(imagePath)\n",
    "    else:\n",
    "        image = imagePath\n",
    "\n",
    "    #Separate the color channels\n",
    "    canal_b = image[:, :, 0]\n",
    "    canal_g = image[:, :, 1]\n",
    "    canal_r = image[:, :, 2]\n",
    "\n",
    "    # Calculate histograms for each channel\n",
    "    # D means we will have 256/D values in the histogram\n",
    "    histogram_b = cv.calcHist([canal_b], [0], None, [D], [0, 255])\n",
    "    histogram_g = cv.calcHist([canal_g], [0], None, [D], [0, 255])\n",
    "    histogram_r = cv.calcHist([canal_r], [0], None, [D], [0, 255])\n",
    "    \n",
    "    vector_r = histogram_r.flatten()\n",
    "    vector_g = histogram_g.flatten()\n",
    "    vector_b = histogram_b.flatten() \n",
    "    \n",
    "    histogramme_complet = np.concatenate((vector_r, vector_g, vector_b))\n",
    "    \n",
    "    if DEBUG:\n",
    "        displayRGBHistogram(histogram_r, histogram_g, histogram_b)\n",
    "\n",
    "    return histogramme_complet"
   ]
  },
  {
   "cell_type": "code",
   "execution_count": 114,
   "metadata": {},
   "outputs": [],
   "source": [
    "def createIndexTable():\n",
    "    \"\"\"Index a video by creating a list of frames and their corresponding index. and update the indexationTable variable.\"\"\"\n",
    "    for video in videoList:\n",
    "        path = currDirectory + videoPath + video\n",
    "        fps, frame_count= getVideoParameter(path)\n",
    "        cap = cv.VideoCapture(path)\n",
    "        startIndex = len(indexationTable)\n",
    "        stopIndex = startIndex - 1 + math.floor(frame_count/STEP_TO_NEXT_FRAME)\n",
    "        for i in range(startIndex, stopIndex):\n",
    "            frameNumber = STEP_TO_NEXT_FRAME*(i-startIndex)\n",
    "            indexationTable.append((i, video, (frameNumber/fps)))\n",
    "            currImage = cap.set(cv.CAP_PROP_POS_FRAMES, frameNumber)\n",
    "            ret, currImage = cap.read()\n",
    "            Descriptor_list[i] = convertImageToVector(currImage, False)\n",
    "        \n",
    "createIndexTable()"
   ]
  },
  {
   "cell_type": "code",
   "execution_count": 115,
   "metadata": {},
   "outputs": [
    {
     "name": "stdout",
     "output_type": "stream",
     "text": [
      "9338\n",
      "(9473, 384)\n",
      "0.9672314312596856\n"
     ]
    }
   ],
   "source": [
    "def CalculateCompressionRate():\n",
    "    print(len(indexationTable))\n",
    "    print(Descriptor_list.shape)\n",
    "    rate = 1- (3*D*N*4)/VIDEOS_SIZE_ON_DISK #*4 because we use float32 and 3 because we have 3 channels RGB\n",
    "    print(rate)\n",
    "    \n",
    "CalculateCompressionRate()"
   ]
  },
  {
   "cell_type": "code",
   "execution_count": 116,
   "metadata": {},
   "outputs": [],
   "source": [
    "def plotImage(image, type):\n",
    "    figure = plt.figure(figsize = (10,10))\n",
    "    imageout = np.clip(image,0,255)\n",
    "    imageout= imageout.astype(type)\n",
    "    plt.imshow(imageout, cmap='gray')\n",
    "    plt.show()"
   ]
  },
  {
   "cell_type": "code",
   "execution_count": 127,
   "metadata": {},
   "outputs": [
    {
     "name": "stdout",
     "output_type": "stream",
     "text": [
      "The best match is the frame number  ('i000', 'v001.mp4', 5.111111111111111)\n",
      "The best match is the frame number  ('i001', 'v050.mp4', 16.850166666666667)\n",
      "The best match is the frame number  ('i002', 'out', '')\n",
      "The best match is the frame number  ('i003', 'v042.mp4', 12.723822222222223)\n",
      "The best match is the frame number  ('i004', 'v075.mp4', 1.4400000000000002)\n",
      "The best match is the frame number  ('i005', 'v048.mp4', 9.84)\n",
      "The best match is the frame number  ('i006', 'v042.mp4', 4.048488888888889)\n",
      "The best match is the frame number  ('i007', 'out', '')\n",
      "The best match is the frame number  ('i008', 'out', '')\n",
      "The best match is the frame number  ('i009', 'v064.mp4', 10.143466666666667)\n",
      "The best match is the frame number  ('i010', 'v059.mp4', 9.4)\n",
      "The best match is the frame number  ('i011', 'v001.mp4', 7.0)\n",
      "The best match is the frame number  ('i012', 'v062.mp4', 12.0)\n",
      "The best match is the frame number  ('i013', 'v016.mp4', 6.673333333333334)\n",
      "The best match is the frame number  ('i014', 'out', '')\n"
     ]
    },
    {
     "ename": "KeyboardInterrupt",
     "evalue": "",
     "output_type": "error",
     "traceback": [
      "\u001b[1;31m---------------------------------------------------------------------------\u001b[0m",
      "\u001b[1;31mKeyboardInterrupt\u001b[0m                         Traceback (most recent call last)",
      "\u001b[1;32mc:\\Users\\loicn\\OneDrive - polymtl.ca\\Polymtl\\Session_5\\INF8770_TEC_MULTIMEDIA\\Lab\\Lab3\\Lab3.ipynb Cell 13\u001b[0m line \u001b[0;36m5\n\u001b[0;32m     <a href='vscode-notebook-cell:/c%3A/Users/loicn/OneDrive%20-%20polymtl.ca/Polymtl/Session_5/INF8770_TEC_MULTIMEDIA/Lab/Lab3/Lab3.ipynb#X42sZmlsZQ%3D%3D?line=49'>50</a>\u001b[0m         \u001b[39mprint\u001b[39m(\u001b[39m\"\u001b[39m\u001b[39mThe best match is the frame number \u001b[39m\u001b[39m\"\u001b[39m, (image\u001b[39m.\u001b[39msplit(\u001b[39m\"\u001b[39m\u001b[39m.\u001b[39m\u001b[39m\"\u001b[39m)[\u001b[39m0\u001b[39m], bestVideo, bestTime))   \n\u001b[0;32m     <a href='vscode-notebook-cell:/c%3A/Users/loicn/OneDrive%20-%20polymtl.ca/Polymtl/Session_5/INF8770_TEC_MULTIMEDIA/Lab/Lab3/Lab3.ipynb#X42sZmlsZQ%3D%3D?line=50'>51</a>\u001b[0m         \u001b[39m# break\u001b[39;00m\n\u001b[1;32m---> <a href='vscode-notebook-cell:/c%3A/Users/loicn/OneDrive%20-%20polymtl.ca/Polymtl/Session_5/INF8770_TEC_MULTIMEDIA/Lab/Lab3/Lab3.ipynb#X42sZmlsZQ%3D%3D?line=52'>53</a>\u001b[0m searchImage()\n",
      "\u001b[1;32mc:\\Users\\loicn\\OneDrive - polymtl.ca\\Polymtl\\Session_5\\INF8770_TEC_MULTIMEDIA\\Lab\\Lab3\\Lab3.ipynb Cell 13\u001b[0m line \u001b[0;36m1\n\u001b[0;32m      <a href='vscode-notebook-cell:/c%3A/Users/loicn/OneDrive%20-%20polymtl.ca/Polymtl/Session_5/INF8770_TEC_MULTIMEDIA/Lab/Lab3/Lab3.ipynb#X42sZmlsZQ%3D%3D?line=6'>7</a>\u001b[0m imageVector \u001b[39m=\u001b[39m convertImageToVector(path)\n\u001b[0;32m      <a href='vscode-notebook-cell:/c%3A/Users/loicn/OneDrive%20-%20polymtl.ca/Polymtl/Session_5/INF8770_TEC_MULTIMEDIA/Lab/Lab3/Lab3.ipynb#X42sZmlsZQ%3D%3D?line=7'>8</a>\u001b[0m \u001b[39mfor\u001b[39;00m i \u001b[39min\u001b[39;00m \u001b[39mrange\u001b[39m(\u001b[39mlen\u001b[39m(indexationTable)):\n\u001b[0;32m      <a href='vscode-notebook-cell:/c%3A/Users/loicn/OneDrive%20-%20polymtl.ca/Polymtl/Session_5/INF8770_TEC_MULTIMEDIA/Lab/Lab3/Lab3.ipynb#X42sZmlsZQ%3D%3D?line=8'>9</a>\u001b[0m     \u001b[39m# calculer la norme de la différence entre l'image et la liste de descripteurs\u001b[39;00m\n\u001b[1;32m---> <a href='vscode-notebook-cell:/c%3A/Users/loicn/OneDrive%20-%20polymtl.ca/Polymtl/Session_5/INF8770_TEC_MULTIMEDIA/Lab/Lab3/Lab3.ipynb#X42sZmlsZQ%3D%3D?line=9'>10</a>\u001b[0m     dist_r \u001b[39m=\u001b[39m np\u001b[39m.\u001b[39;49mlinalg\u001b[39m.\u001b[39;49mnorm(imageVector[\u001b[39m0\u001b[39;49m:D\u001b[39m-\u001b[39;49m\u001b[39m3\u001b[39;49m] \u001b[39m-\u001b[39;49m Descriptor_list[i][\u001b[39m0\u001b[39;49m:D\u001b[39m-\u001b[39;49m\u001b[39m3\u001b[39;49m])\n\u001b[0;32m     <a href='vscode-notebook-cell:/c%3A/Users/loicn/OneDrive%20-%20polymtl.ca/Polymtl/Session_5/INF8770_TEC_MULTIMEDIA/Lab/Lab3/Lab3.ipynb#X42sZmlsZQ%3D%3D?line=10'>11</a>\u001b[0m     dist_g \u001b[39m=\u001b[39m np\u001b[39m.\u001b[39mlinalg\u001b[39m.\u001b[39mnorm(imageVector[D:\u001b[39m2\u001b[39m\u001b[39m*\u001b[39mD\u001b[39m-\u001b[39m\u001b[39m1\u001b[39m] \u001b[39m-\u001b[39m Descriptor_list[i][D:\u001b[39m2\u001b[39m\u001b[39m*\u001b[39mD\u001b[39m-\u001b[39m\u001b[39m1\u001b[39m])\n\u001b[0;32m     <a href='vscode-notebook-cell:/c%3A/Users/loicn/OneDrive%20-%20polymtl.ca/Polymtl/Session_5/INF8770_TEC_MULTIMEDIA/Lab/Lab3/Lab3.ipynb#X42sZmlsZQ%3D%3D?line=11'>12</a>\u001b[0m     dist_b \u001b[39m=\u001b[39m np\u001b[39m.\u001b[39mlinalg\u001b[39m.\u001b[39mnorm(imageVector[\u001b[39m2\u001b[39m\u001b[39m*\u001b[39mD:\u001b[39m3\u001b[39m\u001b[39m*\u001b[39mD\u001b[39m-\u001b[39m\u001b[39m1\u001b[39m] \u001b[39m-\u001b[39m Descriptor_list[i][\u001b[39m2\u001b[39m\u001b[39m*\u001b[39mD:\u001b[39m3\u001b[39m\u001b[39m*\u001b[39mD\u001b[39m-\u001b[39m\u001b[39m1\u001b[39m])\n",
      "File \u001b[1;32m~\\AppData\\Local\\Packages\\PythonSoftwareFoundation.Python.3.11_qbz5n2kfra8p0\\LocalCache\\local-packages\\Python311\\site-packages\\numpy\\linalg\\linalg.py:2552\u001b[0m, in \u001b[0;36mnorm\u001b[1;34m(x, ord, axis, keepdims)\u001b[0m\n\u001b[0;32m   2550\u001b[0m     sqnorm \u001b[39m=\u001b[39m x_real\u001b[39m.\u001b[39mdot(x_real) \u001b[39m+\u001b[39m x_imag\u001b[39m.\u001b[39mdot(x_imag)\n\u001b[0;32m   2551\u001b[0m \u001b[39melse\u001b[39;00m:\n\u001b[1;32m-> 2552\u001b[0m     sqnorm \u001b[39m=\u001b[39m x\u001b[39m.\u001b[39mdot(x)\n\u001b[0;32m   2553\u001b[0m ret \u001b[39m=\u001b[39m sqrt(sqnorm)\n\u001b[0;32m   2554\u001b[0m \u001b[39mif\u001b[39;00m keepdims:\n",
      "\u001b[1;31mKeyboardInterrupt\u001b[0m: "
     ]
    }
   ],
   "source": [
    "def searchImage():\n",
    "    bestDistance = 0\n",
    "    for image in imageList:\n",
    "        path = currDirectory + imagePath + image\n",
    "        if DEBUG:\n",
    "            plotImage(cv.cvtColor(cv.imread(path), cv.COLOR_BGR2RGB), 'uint8')\n",
    "        imageVector = convertImageToVector(path)\n",
    "        for i in range(len(indexationTable)):\n",
    "            # calculer la norme de la différence entre l'image et la liste de descripteurs\n",
    "            dist_r = np.linalg.norm(imageVector[0:D-3] - Descriptor_list[i][0:D-3])\n",
    "            dist_g = np.linalg.norm(imageVector[D:2*D-1] - Descriptor_list[i][D:2*D-1])\n",
    "            dist_b = np.linalg.norm(imageVector[2*D:3*D-1] - Descriptor_list[i][2*D:3*D-1])\n",
    "            if i == 0:\n",
    "                bestDistance_r = dist_r\n",
    "                bestDistance_g = dist_g\n",
    "                bestDistance_b = dist_b\n",
    "                bestIndex_r = bestIndex_g= bestIndex_b=i\n",
    "            if dist_r < bestDistance_r:\n",
    "                bestDistance_r = dist_r\n",
    "                bestIndex_r = i\n",
    "            if dist_g < bestDistance_g:\n",
    "                bestDistance_g = dist_g\n",
    "                bestIndex_g = i\n",
    "            if dist_b < bestDistance_b:\n",
    "                bestDistance_b = dist_b\n",
    "                bestIndex_b = i\n",
    "            \n",
    "            foundVideo_r = indexationTable[bestIndex_r][1]\n",
    "            foundVideo_g = indexationTable[bestIndex_g][1]\n",
    "            foundVideo_b = indexationTable[bestIndex_b][1]\n",
    "            time_r = indexationTable[bestIndex_r][2]\n",
    "            time_g = indexationTable[bestIndex_g][2]\n",
    "            time_b = indexationTable[bestIndex_b][2]\n",
    "            if foundVideo_r == foundVideo_g == foundVideo_b:\n",
    "                bestVideo = foundVideo_r\n",
    "                bestTime = (time_r+time_g+time_b)/3\n",
    "            elif foundVideo_r == foundVideo_g:\n",
    "                bestVideo = foundVideo_r\n",
    "                bestTime = (time_r+time_g)/2\n",
    "            elif foundVideo_r == foundVideo_b:\n",
    "                bestVideo = foundVideo_r\n",
    "                bestTime = (time_r+time_b)/2\n",
    "            elif foundVideo_g == foundVideo_b:\n",
    "                bestVideo = foundVideo_g\n",
    "                bestTime = (time_g+time_b)/2\n",
    "            else:\n",
    "                bestVideo = \"out\"\n",
    "                bestTime = \"\"\n",
    "            \n",
    "        print(\"The best match is the frame number \", (image.split(\".\")[0], bestVideo, bestTime))   \n",
    "        break\n",
    "    \n",
    "searchImage()"
   ]
  },
  {
   "cell_type": "code",
   "execution_count": 118,
   "metadata": {},
   "outputs": [
    {
     "ename": "SyntaxError",
     "evalue": "incomplete input (3781726569.py, line 2)",
     "output_type": "error",
     "traceback": [
      "\u001b[1;36m  Cell \u001b[1;32mIn[118], line 2\u001b[1;36m\u001b[0m\n\u001b[1;33m    \u001b[0m\n\u001b[1;37m    ^\u001b[0m\n\u001b[1;31mSyntaxError\u001b[0m\u001b[1;31m:\u001b[0m incomplete input\n"
     ]
    }
   ],
   "source": [
    "def writeSearchResults():\n",
    "    "
   ]
  },
  {
   "cell_type": "code",
   "execution_count": null,
   "metadata": {},
   "outputs": [],
   "source": [
    "def verifyFrameIndexationTime():\n",
    "    \"\"\"Function to verify if the indexation time of each frame is less than the max time allowed for indexation per frame.\"\"\"\n",
    "    videoToReindex = []\n",
    "    totalIndexationTime = 0\n",
    "    for i in range(0, len(frameIndexationTime)):\n",
    "        totalIndexationTime += frameIndexationTime[i]\n",
    "        if(frameIndexationTime[i] > MAX_FRAME_INDEXATION_TIME):\n",
    "            videoToReindex.append(i)\n",
    "    if len(videoToReindex) != 0:\n",
    "        print(\"Les vidéos suivantes doivent être réindexées car elles prennent plus de temps que le temps maximal d'indexation par frame: \" + str(MAX_FRAME_INDEXATION_TIME) + \" secondes\")\n",
    "        for i in range(0, len(videoToReindex)):\n",
    "            print(videoList[videoToReindex[i]])\n",
    "    print(\"Toutes les vidéos ont été correctement indexées\\nLe temps d'indexation total est: \" + str(totalIndexationTime/60.0) + \" minutes\")\n"
   ]
  },
  {
   "cell_type": "code",
   "execution_count": null,
   "metadata": {},
   "outputs": [],
   "source": [
    "def verifyImageSearchTime():\n",
    "    \"\"\"Function to verify if the search time for each image is less than the max time allowed for search per image.\"\"\"\n",
    "    imageToResearch = []\n",
    "    totalSearchTime = 0\n",
    "    for i in range(0, len(imageSearchTime)):\n",
    "        totalSearchTime += imageSearchTime[i]\n",
    "        if(imageSearchTime[i] > MAX_SEARCH_TIME):\n",
    "            imageToResearch.append(i)\n",
    "    if len(imageToResearch) != 0:\n",
    "        print(\"La recherche doit être révisée pour les images suivantes car elles prennent plus de temps que le temps maximal de recherche par image: \" + str(MAX_SEARCH_TIME) + \" secondes\")\n",
    "        for i in range(0, len(imageToResearch)):\n",
    "            print(imageList[imageToResearch[i]])\n",
    "    print(\"Le temps de recherche total est: \" + str(totalSearchTime) + \" secondes\")"
   ]
  },
  {
   "cell_type": "code",
   "execution_count": null,
   "metadata": {},
   "outputs": [],
   "source": [
    "# Cell for test purposes\n",
    "calculateTotalFrame()"
   ]
  }
 ],
 "metadata": {
  "kernelspec": {
   "display_name": "Python 3",
   "language": "python",
   "name": "python3"
  },
  "language_info": {
   "codemirror_mode": {
    "name": "ipython",
    "version": 3
   },
   "file_extension": ".py",
   "mimetype": "text/x-python",
   "name": "python",
   "nbconvert_exporter": "python",
   "pygments_lexer": "ipython3",
   "version": "3.11.8"
  }
 },
 "nbformat": 4,
 "nbformat_minor": 2
}
