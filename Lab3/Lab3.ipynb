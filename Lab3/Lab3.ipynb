{
 "cells": [
  {
   "cell_type": "markdown",
   "metadata": {},
   "source": [
    "### Installation des dépendances"
   ]
  },
  {
   "cell_type": "code",
   "execution_count": 27,
   "metadata": {},
   "outputs": [
    {
     "name": "stdout",
     "output_type": "stream",
     "text": [
      "Requirement already satisfied: numpy in c:\\users\\loicn\\appdata\\local\\packages\\pythonsoftwarefoundation.python.3.11_qbz5n2kfra8p0\\localcache\\local-packages\\python311\\site-packages (1.26.3)Note: you may need to restart the kernel to use updated packages.\n",
      "\n"
     ]
    },
    {
     "name": "stderr",
     "output_type": "stream",
     "text": [
      "\n",
      "[notice] A new release of pip is available: 23.3.2 -> 24.0\n",
      "[notice] To update, run: C:\\Users\\loicn\\AppData\\Local\\Microsoft\\WindowsApps\\PythonSoftwareFoundation.Python.3.11_qbz5n2kfra8p0\\python.exe -m pip install --upgrade pip\n"
     ]
    },
    {
     "name": "stdout",
     "output_type": "stream",
     "text": [
      "Requirement already satisfied: opencv-python in c:\\users\\loicn\\appdata\\local\\packages\\pythonsoftwarefoundation.python.3.11_qbz5n2kfra8p0\\localcache\\local-packages\\python311\\site-packages (4.9.0.80)\n",
      "Requirement already satisfied: numpy>=1.21.2 in c:\\users\\loicn\\appdata\\local\\packages\\pythonsoftwarefoundation.python.3.11_qbz5n2kfra8p0\\localcache\\local-packages\\python311\\site-packages (from opencv-python) (1.26.3)\n",
      "Note: you may need to restart the kernel to use updated packages.\n"
     ]
    },
    {
     "name": "stderr",
     "output_type": "stream",
     "text": [
      "\n",
      "[notice] A new release of pip is available: 23.3.2 -> 24.0\n",
      "[notice] To update, run: C:\\Users\\loicn\\AppData\\Local\\Microsoft\\WindowsApps\\PythonSoftwareFoundation.Python.3.11_qbz5n2kfra8p0\\python.exe -m pip install --upgrade pip\n"
     ]
    },
    {
     "name": "stdout",
     "output_type": "stream",
     "text": [
      "Requirement already satisfied: matplotlib in c:\\users\\loicn\\appdata\\local\\packages\\pythonsoftwarefoundation.python.3.11_qbz5n2kfra8p0\\localcache\\local-packages\\python311\\site-packages (3.8.3)\n",
      "Requirement already satisfied: contourpy>=1.0.1 in c:\\users\\loicn\\appdata\\local\\packages\\pythonsoftwarefoundation.python.3.11_qbz5n2kfra8p0\\localcache\\local-packages\\python311\\site-packages (from matplotlib) (1.2.0)\n",
      "Requirement already satisfied: cycler>=0.10 in c:\\users\\loicn\\appdata\\local\\packages\\pythonsoftwarefoundation.python.3.11_qbz5n2kfra8p0\\localcache\\local-packages\\python311\\site-packages (from matplotlib) (0.12.1)\n",
      "Requirement already satisfied: fonttools>=4.22.0 in c:\\users\\loicn\\appdata\\local\\packages\\pythonsoftwarefoundation.python.3.11_qbz5n2kfra8p0\\localcache\\local-packages\\python311\\site-packages (from matplotlib) (4.48.1)\n",
      "Requirement already satisfied: kiwisolver>=1.3.1 in c:\\users\\loicn\\appdata\\local\\packages\\pythonsoftwarefoundation.python.3.11_qbz5n2kfra8p0\\localcache\\local-packages\\python311\\site-packages (from matplotlib) (1.4.5)\n",
      "Requirement already satisfied: numpy<2,>=1.21 in c:\\users\\loicn\\appdata\\local\\packages\\pythonsoftwarefoundation.python.3.11_qbz5n2kfra8p0\\localcache\\local-packages\\python311\\site-packages (from matplotlib) (1.26.3)\n",
      "Requirement already satisfied: packaging>=20.0 in c:\\users\\loicn\\appdata\\local\\packages\\pythonsoftwarefoundation.python.3.11_qbz5n2kfra8p0\\localcache\\local-packages\\python311\\site-packages (from matplotlib) (23.2)\n",
      "Requirement already satisfied: pillow>=8 in c:\\users\\loicn\\appdata\\local\\packages\\pythonsoftwarefoundation.python.3.11_qbz5n2kfra8p0\\localcache\\local-packages\\python311\\site-packages (from matplotlib) (10.2.0)\n",
      "Requirement already satisfied: pyparsing>=2.3.1 in c:\\users\\loicn\\appdata\\local\\packages\\pythonsoftwarefoundation.python.3.11_qbz5n2kfra8p0\\localcache\\local-packages\\python311\\site-packages (from matplotlib) (3.1.1)\n",
      "Requirement already satisfied: python-dateutil>=2.7 in c:\\users\\loicn\\appdata\\local\\packages\\pythonsoftwarefoundation.python.3.11_qbz5n2kfra8p0\\localcache\\local-packages\\python311\\site-packages (from matplotlib) (2.8.2)\n",
      "Requirement already satisfied: six>=1.5 in c:\\users\\loicn\\appdata\\local\\packages\\pythonsoftwarefoundation.python.3.11_qbz5n2kfra8p0\\localcache\\local-packages\\python311\\site-packages (from python-dateutil>=2.7->matplotlib) (1.16.0)\n",
      "Note: you may need to restart the kernel to use updated packages.\n"
     ]
    },
    {
     "name": "stderr",
     "output_type": "stream",
     "text": [
      "\n",
      "[notice] A new release of pip is available: 23.3.2 -> 24.0\n",
      "[notice] To update, run: C:\\Users\\loicn\\AppData\\Local\\Microsoft\\WindowsApps\\PythonSoftwareFoundation.Python.3.11_qbz5n2kfra8p0\\python.exe -m pip install --upgrade pip\n"
     ]
    }
   ],
   "source": [
    "%pip install numpy\n",
    "%pip install opencv-python\n",
    "%pip install -U matplotlib\n",
    "import numpy as np\n",
    "import cv2 as cv\n",
    "from matplotlib import pyplot as plt\n",
    "import math\n",
    "import os\n",
    "import time"
   ]
  },
  {
   "cell_type": "code",
   "execution_count": 28,
   "metadata": {},
   "outputs": [],
   "source": [
    "# Define Constants\n",
    "STEP_TO_NEXT_FRAME = 4 \n",
    "\"\"\" in each video, we will read 1 frame every 24/STEP_TO_INDEX frames\"\"\"\n",
    "DEBUG = False # if True, print debug information\n",
    "NUMBER_OF_VIDEO = 100 # number of videos to index\n",
    "MAX_FRAME_INDEXATION_TIME = 3 # in seconds\n",
    "MAX_SEARCH_TIME = 0.1 # in seconds\n",
    "VIDEOS_SIZE_ON_DISK = 444039168  # in octets\n",
    "MAX_FRAME_NUMBER = 37895 # maximum number of frames in a video\n",
    "N = int(MAX_FRAME_NUMBER/STEP_TO_NEXT_FRAME) # index Length\n",
    "D = 128 # index Depth"
   ]
  },
  {
   "cell_type": "code",
   "execution_count": 29,
   "metadata": {},
   "outputs": [],
   "source": [
    "#Define all global variables\n",
    "imageList = []\n",
    "videoList = []\n",
    "# SearchResult = [] # List of (image name, video name, time)\n",
    "indexationTable = [] # Table of indexation\n",
    "Descriptor_list = np.empty((N, D * 3), dtype=np.float32) # Descriptor of the image"
   ]
  },
  {
   "cell_type": "markdown",
   "metadata": {},
   "source": [
    "### Lecture des fichiers"
   ]
  },
  {
   "cell_type": "code",
   "execution_count": 30,
   "metadata": {},
   "outputs": [],
   "source": [
    "imagePath = \"/data/jpeg/\"\n",
    "videoPath = \"/data/mp4/\"\n",
    "currDirectory = os.getcwd()\n",
    "imageList = os.listdir(currDirectory + imagePath)\n",
    "videoList = os.listdir(currDirectory + videoPath)\n",
    "# for file in imageList:\n",
    "#     filePath = currDirectory + dataPath + file\n",
    "#     img = cv.imread(filePath, cv.IMREAD_COLOR)"
   ]
  },
  {
   "cell_type": "code",
   "execution_count": 31,
   "metadata": {},
   "outputs": [],
   "source": [
    "def getVideoParameter(videoPath:str):\n",
    "    \"\"\"return the frame rate and the number of frames of the video.\"\"\"\n",
    "    cap = cv.VideoCapture(videoPath)\n",
    "    fps = cap.get(cv.CAP_PROP_FPS)\n",
    "    frame_count = cap.get(cv.CAP_PROP_FRAME_COUNT)\n",
    "    return fps, frame_count\n",
    "    "
   ]
  },
  {
   "cell_type": "code",
   "execution_count": 32,
   "metadata": {},
   "outputs": [],
   "source": [
    "def displayRGBHistogram(histogram_r, histogram_g, histogram_b):\n",
    "    plt.plot(histogram_b, color='blue', label='Canal bleu')\n",
    "    plt.plot(histogram_g, color='green', label='Canal vert')\n",
    "    plt.plot(histogram_r, color='red', label='Canal rouge')\n",
    "    plt.xlabel('Intensité des pixels')\n",
    "    plt.ylabel('Nombre de pixels')\n",
    "    plt.title('Histogramme de l\\'image')\n",
    "    plt.legend()\n",
    "    plt.show()"
   ]
  },
  {
   "cell_type": "code",
   "execution_count": 33,
   "metadata": {},
   "outputs": [],
   "source": [
    "\n",
    "def convertImageToVector(imagePath, needToRead:bool = True):\n",
    "    \"\"\"return the histogram of the image.\"\"\"\n",
    "    if needToRead:\n",
    "        image = cv.imread(imagePath)\n",
    "    else:\n",
    "        image = imagePath\n",
    "\n",
    "    #Separate the color channels\n",
    "    canal_b = image[:, :, 0]\n",
    "    canal_g = image[:, :, 1]\n",
    "    canal_r = image[:, :, 2]\n",
    "\n",
    "    # Calculate histograms for each channel\n",
    "    # D means we will have 256/D values in the histogram\n",
    "    histogram_b = cv.calcHist([canal_b], [0], None, [D], [0, 255])\n",
    "    histogram_g = cv.calcHist([canal_g], [0], None, [D], [0, 255])\n",
    "    histogram_r = cv.calcHist([canal_r], [0], None, [D], [0, 255])\n",
    "    \n",
    "    vector_r = histogram_r.flatten()\n",
    "    vector_g = histogram_g.flatten()\n",
    "    vector_b = histogram_b.flatten() \n",
    "    \n",
    "    histogramme_complet = np.concatenate((vector_r, vector_g, vector_b))\n",
    "    \n",
    "    if DEBUG:\n",
    "        displayRGBHistogram(histogram_r, histogram_g, histogram_b)\n",
    "\n",
    "    return histogramme_complet"
   ]
  },
  {
   "cell_type": "code",
   "execution_count": 34,
   "metadata": {},
   "outputs": [],
   "source": [
    "def createIndexTable():\n",
    "    \"\"\"Index a video by creating a list of frames and their corresponding index. and update the indexationTable variable.\"\"\"\n",
    "    for video in videoList:\n",
    "        path = currDirectory + videoPath + video\n",
    "        fps, frame_count= getVideoParameter(path)\n",
    "        cap = cv.VideoCapture(path)\n",
    "        startIndex = len(indexationTable)\n",
    "        stopIndex = startIndex - 1 + math.floor(frame_count/STEP_TO_NEXT_FRAME)\n",
    "        for i in range(startIndex, stopIndex):\n",
    "            frameNumber = STEP_TO_NEXT_FRAME*(i-startIndex)\n",
    "            indexationTable.append((i, video, (frameNumber/fps)))\n",
    "            currImage = cap.set(cv.CAP_PROP_POS_FRAMES, frameNumber)\n",
    "            ret, currImage = cap.read()\n",
    "            Descriptor_list[i] = convertImageToVector(currImage, False)\n",
    "        \n",
    "createIndexTable()"
   ]
  },
  {
   "cell_type": "code",
   "execution_count": 35,
   "metadata": {},
   "outputs": [
    {
     "name": "stdout",
     "output_type": "stream",
     "text": [
      "9338\n",
      "(9473, 384)\n",
      "0.9672314312596856\n"
     ]
    }
   ],
   "source": [
    "def CalculateCompressionRate():\n",
    "    print(len(indexationTable))\n",
    "    print(Descriptor_list.shape)\n",
    "    rate = 1- (3*D*N*4)/VIDEOS_SIZE_ON_DISK #*4 because we use float32 and 3 because we have 3 channels RGB\n",
    "    print(rate)\n",
    "    \n",
    "CalculateCompressionRate()"
   ]
  },
  {
   "cell_type": "code",
   "execution_count": 36,
   "metadata": {},
   "outputs": [],
   "source": [
    "def plotImage(image, type):\n",
    "    figure = plt.figure(figsize = (10,10))\n",
    "    imageout = np.clip(image,0,255)\n",
    "    imageout= imageout.astype(type)\n",
    "    plt.imshow(imageout, cmap='gray')\n",
    "    plt.show()"
   ]
  },
  {
   "cell_type": "code",
   "execution_count": 59,
   "metadata": {},
   "outputs": [],
   "source": [
    "def searchImage():\n",
    "    SearchResult = []\n",
    "    for image in imageList:\n",
    "        path = currDirectory + imagePath + image\n",
    "        if DEBUG:\n",
    "            plotImage(cv.cvtColor(cv.imread(path), cv.COLOR_BGR2RGB), 'uint8')\n",
    "        imageVector = convertImageToVector(path)\n",
    "        for i in range(len(indexationTable)):\n",
    "            # calculer la norme de la différence entre l'image et la liste de descripteurs\n",
    "            dist_r = np.linalg.norm(imageVector[0:D-3] - Descriptor_list[i][0:D-3])\n",
    "            dist_g = np.linalg.norm(imageVector[D:2*D-1] - Descriptor_list[i][D:2*D-1])\n",
    "            dist_b = np.linalg.norm(imageVector[2*D:3*D-1] - Descriptor_list[i][2*D:3*D-1])\n",
    "            if i == 0:\n",
    "                bestDistance_r = dist_r\n",
    "                bestDistance_g = dist_g\n",
    "                bestDistance_b = dist_b\n",
    "                bestIndex_r = bestIndex_g= bestIndex_b=i\n",
    "            if dist_r < bestDistance_r:\n",
    "                bestDistance_r = dist_r\n",
    "                bestIndex_r = i\n",
    "            if dist_g < bestDistance_g:\n",
    "                bestDistance_g = dist_g\n",
    "                bestIndex_g = i\n",
    "            if dist_b < bestDistance_b:\n",
    "                bestDistance_b = dist_b\n",
    "                bestIndex_b = i\n",
    "            \n",
    "        foundVideo_r = indexationTable[bestIndex_r][1]\n",
    "        foundVideo_g = indexationTable[bestIndex_g][1]\n",
    "        foundVideo_b = indexationTable[bestIndex_b][1]\n",
    "        time_r = indexationTable[bestIndex_r][2]\n",
    "        time_g = indexationTable[bestIndex_g][2]\n",
    "        time_b = indexationTable[bestIndex_b][2]\n",
    "        if foundVideo_r == foundVideo_g == foundVideo_b:\n",
    "            bestVideo = foundVideo_r\n",
    "            bestTime = (time_r+time_g+time_b)/3\n",
    "        elif foundVideo_r == foundVideo_g:\n",
    "            bestVideo = foundVideo_r\n",
    "            bestTime = (time_r+time_g)/2\n",
    "        elif foundVideo_r == foundVideo_b:\n",
    "            bestVideo = foundVideo_r\n",
    "            bestTime = (time_r+time_b)/2\n",
    "        elif foundVideo_g == foundVideo_b:\n",
    "            bestVideo = foundVideo_g\n",
    "            bestTime = (time_g+time_b)/2\n",
    "        else:\n",
    "            # print(image.split(\".\")[0])\n",
    "            # print(foundVideo_r, time_r)\n",
    "            # print(foundVideo_g, time_g)\n",
    "            # print(foundVideo_b, time_b)\n",
    "            bestVideo = \"out\"\n",
    "            bestTime = \"\"\n",
    "            \n",
    "        # print(\"The best match is the frame number \", (image.split(\".\")[0], bestVideo.split(\".\")[0], bestTime)) \n",
    "        if type(bestTime) == float: \n",
    "            SearchResult.append((image.split(\".\")[0], bestVideo.split(\".\")[0], round(bestTime, 3)))\n",
    "        else:\n",
    "            SearchResult.append((image.split(\".\")[0], bestVideo.split(\".\")[0], bestTime)) \n",
    "        # break\n",
    "    return SearchResult\n",
    "\n",
    "SearchResult = searchImage()\n",
    "    \n"
   ]
  },
  {
   "cell_type": "code",
   "execution_count": 61,
   "metadata": {},
   "outputs": [
    {
     "name": "stdout",
     "output_type": "stream",
     "text": [
      "[]\n"
     ]
    }
   ],
   "source": [
    "def writeResultInCSVFile():\n",
    "    \"\"\"Function to write the results in a csv file.\"\"\"\n",
    "    with open(currDirectory+'/src/test.csv', 'w') as file:\n",
    "        file.write(\"image,video_pred,minutage_pred\\n\")\n",
    "        for imageName, video, time in SearchResult:\n",
    "            file.write(imageName + \",\" + video + \",\" + str(time) + \"\\n\")\n",
    "    file.close()\n",
    "\n",
    "writeResultInCSVFile()"
   ]
  }
 ],
 "metadata": {
  "kernelspec": {
   "display_name": "Python 3",
   "language": "python",
   "name": "python3"
  },
  "language_info": {
   "codemirror_mode": {
    "name": "ipython",
    "version": 3
   },
   "file_extension": ".py",
   "mimetype": "text/x-python",
   "name": "python",
   "nbconvert_exporter": "python",
   "pygments_lexer": "ipython3",
   "version": "3.11.8"
  }
 },
 "nbformat": 4,
 "nbformat_minor": 2
}
