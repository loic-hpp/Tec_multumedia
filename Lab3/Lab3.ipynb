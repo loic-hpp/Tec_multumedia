{
 "cells": [
  {
   "cell_type": "markdown",
   "metadata": {},
   "source": [
    "### Installation des dépendances"
   ]
  },
  {
   "cell_type": "code",
   "execution_count": null,
   "metadata": {},
   "outputs": [],
   "source": [
    "%pip install numpy\n",
    "%pip install opencv-python\n",
    "%pip install -U matplotlib\n",
    "import numpy as np\n",
    "import cv2 as cv\n",
    "from matplotlib import pyplot as plt\n",
    "import math\n",
    "import os\n",
    "import time"
   ]
  },
  {
   "cell_type": "code",
   "execution_count": null,
   "metadata": {},
   "outputs": [],
   "source": [
    "# Define Constants\n",
    "STEP_TO_NEXT_FRAME = 4 \n",
    "DEBUG = False # if True, print debug information\n",
    "\"\"\" in each video, we will read 1 frame every 24/STEP_TO_INDEX frames\"\"\"\n",
    "# N = 10 # index Length\n",
    "D = 128 # index Depth\n",
    "NUMBER_OF_VIDEO = 100 # number of videos to index\n",
    "MAX_FRAME_INDEXATION_TIME = 3 # in seconds\n",
    "MAX_SEARCH_TIME = 0.1 # in seconds\n",
    "VIDEO_SIZE_ON_DISK = 444039168  # in octets"
   ]
  },
  {
   "cell_type": "code",
   "execution_count": null,
   "metadata": {},
   "outputs": [],
   "source": [
    "#Define all global variables\n",
    "imageList = []\n",
    "videoList = []\n",
    "frameIndexationTime = [] # Time must be in seconds\n",
    "imageSearchTime = [] # Time must be in seconds\n",
    "videoDurationList = [] # Time must be in seconds\n",
    "imageCompressionRateList = []\n",
    "videoCompressionRateList = []\n",
    "indexationTable = [] # Table of indexation"
   ]
  },
  {
   "cell_type": "markdown",
   "metadata": {},
   "source": [
    "### Lecture des fichiers"
   ]
  },
  {
   "cell_type": "code",
   "execution_count": null,
   "metadata": {},
   "outputs": [],
   "source": [
    "imagePath = \"/data/jpeg/\"\n",
    "videoPath = \"/data/mp4/\"\n",
    "currDirectory = os.getcwd()\n",
    "imageList = os.listdir(currDirectory + imagePath)\n",
    "videoList = os.listdir(currDirectory + videoPath)\n",
    "# for file in imageList:\n",
    "#     filePath = currDirectory + dataPath + file\n",
    "#     img = cv.imread(filePath, cv.IMREAD_COLOR)"
   ]
  },
  {
   "cell_type": "code",
   "execution_count": null,
   "metadata": {},
   "outputs": [],
   "source": [
    "def getVideoParameter(videoPath:str):\n",
    "    \"\"\"return the frame rate and the number of frames of the video.\"\"\"\n",
    "    cap = cv.VideoCapture(videoPath)\n",
    "    fps = cap.get(cv.CAP_PROP_FPS)\n",
    "    frame_count = cap.get(cv.CAP_PROP_FRAME_COUNT)\n",
    "    return fps, frame_count\n",
    "    "
   ]
  },
  {
   "cell_type": "code",
   "execution_count": null,
   "metadata": {},
   "outputs": [],
   "source": [
    "def createIndexTable():\n",
    "    \"\"\"Index a video by creating a list of frames and their corresponding index. and update the indexationTable variable.\"\"\"\n",
    "    for video in videoList:\n",
    "        path = currDirectory + videoPath + video\n",
    "        fps, frame_count= getVideoParameter(path)\n",
    "        startIndex = len(indexationTable)\n",
    "        stopIndex = startIndex + math.floor(frame_count/STEP_TO_NEXT_FRAME)\n",
    "        for i in range(startIndex, stopIndex):\n",
    "            frameNumber = STEP_TO_NEXT_FRAME*(i-startIndex+1)\n",
    "            indexationTable.append((frameNumber, video, (frameNumber/fps)))"
   ]
  },
  {
   "cell_type": "code",
   "execution_count": null,
   "metadata": {},
   "outputs": [],
   "source": [
    "def displayRGBHistogram(histogram_r, histogram_g, histogram_b):\n",
    "    plt.plot(histogram_b, color='blue', label='Canal bleu')\n",
    "    plt.plot(histogram_g, color='green', label='Canal vert')\n",
    "    plt.plot(histogram_r, color='red', label='Canal rouge')\n",
    "    plt.xlabel('Intensité des pixels')\n",
    "    plt.ylabel('Nombre de pixels')\n",
    "    plt.title('Histogramme de l\\'image')\n",
    "    plt.legend()\n",
    "    plt.show()"
   ]
  },
  {
   "cell_type": "code",
   "execution_count": null,
   "metadata": {},
   "outputs": [],
   "source": [
    "def convertImageToVector(imagePath:str):\n",
    "    \"\"\"return the histogram of the image.\"\"\"\n",
    "    image = cv.imread(imagePath)\n",
    "\n",
    "    #Separate the color channels\n",
    "    canal_b = image[:, :, 0]\n",
    "    canal_g = image[:, :, 1]\n",
    "    canal_r = image[:, :, 2]\n",
    "\n",
    "    # Calculate histograms for each channel\n",
    "    # D means we will have 256/D values in the histogram\n",
    "    histogram_b = cv.calcHist([canal_b], [0], None, [D], [0, 256])\n",
    "    histogram_g = cv.calcHist([canal_g], [0], None, [D], [0, 256])\n",
    "    histogram_r = cv.calcHist([canal_r], [0], None, [D], [0, 256])\n",
    "    \n",
    "    vector_r = histogram_r.flatten()\n",
    "    vector_g = histogram_g.flatten()\n",
    "    vector_b = histogram_b.flatten()\n",
    "    \n",
    "    histogramme_complet = np.concatenate((vector_r, vector_g, vector_b))\n",
    "    \n",
    "    if DEBUG:\n",
    "        displayRGBHistogram(histogram_r, histogram_g, histogram_b)\n",
    "\n",
    "    return histogramme_complet"
   ]
  },
  {
   "cell_type": "code",
   "execution_count": null,
   "metadata": {},
   "outputs": [],
   "source": [
    "def indexImage(image):\n",
    "    "
   ]
  },
  {
   "cell_type": "code",
   "execution_count": null,
   "metadata": {},
   "outputs": [],
   "source": [
    "def createDescriptor():\n",
    "    "
   ]
  },
  {
   "cell_type": "code",
   "execution_count": null,
   "metadata": {},
   "outputs": [],
   "source": [
    "def videoCompressionRate(indexedVideo, video):"
   ]
  },
  {
   "cell_type": "code",
   "execution_count": null,
   "metadata": {},
   "outputs": [],
   "source": [
    "def imageCompressionRate(indexedImage, image):"
   ]
  },
  {
   "cell_type": "code",
   "execution_count": null,
   "metadata": {},
   "outputs": [],
   "source": [
    "def writeSearchResults():\n",
    "    "
   ]
  },
  {
   "cell_type": "code",
   "execution_count": null,
   "metadata": {},
   "outputs": [],
   "source": [
    "def searchImage():\n",
    "    "
   ]
  },
  {
   "cell_type": "code",
   "execution_count": null,
   "metadata": {},
   "outputs": [],
   "source": [
    "def verifyFrameIndexationTime():\n",
    "    \"\"\"Function to verify if the indexation time of each frame is less than the max time allowed for indexation per frame.\"\"\"\n",
    "    videoToReindex = []\n",
    "    totalIndexationTime = 0\n",
    "    for i in range(0, len(frameIndexationTime)):\n",
    "        totalIndexationTime += frameIndexationTime[i]\n",
    "        if(frameIndexationTime[i] > MAX_FRAME_INDEXATION_TIME):\n",
    "            videoToReindex.append(i)\n",
    "    if len(videoToReindex) != 0:\n",
    "        print(\"Les vidéos suivantes doivent être réindexées car elles prennent plus de temps que le temps maximal d'indexation par frame: \" + str(MAX_FRAME_INDEXATION_TIME) + \" secondes\")\n",
    "        for i in range(0, len(videoToReindex)):\n",
    "            print(videoList[videoToReindex[i]])\n",
    "    print(\"Toutes les vidéos ont été correctement indexées\\nLe temps d'indexation total est: \" + str(totalIndexationTime/60.0) + \" minutes\")\n"
   ]
  },
  {
   "cell_type": "code",
   "execution_count": null,
   "metadata": {},
   "outputs": [],
   "source": [
    "def verifyImageSearchTime():\n",
    "    \"\"\"Function to verify if the search time for each image is less than the max time allowed for search per image.\"\"\"\n",
    "    imageToResearch = []\n",
    "    totalSearchTime = 0\n",
    "    for i in range(0, len(imageSearchTime)):\n",
    "        totalSearchTime += imageSearchTime[i]\n",
    "        if(imageSearchTime[i] > MAX_SEARCH_TIME):\n",
    "            imageToResearch.append(i)\n",
    "    if len(imageToResearch) != 0:\n",
    "        print(\"La recherche doit être révisée pour les images suivantes car elles prennent plus de temps que le temps maximal de recherche par image: \" + str(MAX_SEARCH_TIME) + \" secondes\")\n",
    "        for i in range(0, len(imageToResearch)):\n",
    "            print(imageList[imageToResearch[i]])\n",
    "    print(\"Le temps de recherche total est: \" + str(totalSearchTime) + \" secondes\")"
   ]
  },
  {
   "cell_type": "code",
   "execution_count": null,
   "metadata": {},
   "outputs": [],
   "source": [
    "# Cell for test purposes\n",
    "calculateTotalFrame()"
   ]
  }
 ],
 "metadata": {
  "kernelspec": {
   "display_name": "Python 3",
   "language": "python",
   "name": "python3"
  },
  "language_info": {
   "codemirror_mode": {
    "name": "ipython",
    "version": 3
   },
   "file_extension": ".py",
   "mimetype": "text/x-python",
   "name": "python",
   "nbconvert_exporter": "python",
   "pygments_lexer": "ipython3",
   "version": "3.11.8"
  }
 },
 "nbformat": 4,
 "nbformat_minor": 2
}
