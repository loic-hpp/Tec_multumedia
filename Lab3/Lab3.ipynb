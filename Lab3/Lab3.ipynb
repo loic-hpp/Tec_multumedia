{
 "cells": [
  {
   "cell_type": "markdown",
   "metadata": {},
   "source": [
    "### Installation des dépendances"
   ]
  },
  {
   "cell_type": "code",
   "execution_count": null,
   "metadata": {},
   "outputs": [],
   "source": [
    "%pip install numpy\n",
    "import numpy as np\n",
    "import cv2 as cv\n",
    "import math\n",
    "import os\n",
    "import time"
   ]
  },
  {
   "cell_type": "code",
   "execution_count": 10,
   "metadata": {},
   "outputs": [],
   "source": [
    "# Define Constants\n",
    "maxFrameIndexationTime = 3 # in seconds\n",
    "maxSearchTime = 0.1 # in seconds"
   ]
  },
  {
   "cell_type": "code",
   "execution_count": null,
   "metadata": {},
   "outputs": [],
   "source": [
    "#Define all global variables\n",
    "imageList = []\n",
    "videoList = []\n",
    "frameIndexationTime = [] # Time must be in seconds\n",
    "imageSearchTime = [] # Time must be in seconds\n",
    "imageCompressionRateList = []\n",
    "videoCompressionRateList = []"
   ]
  },
  {
   "cell_type": "markdown",
   "metadata": {},
   "source": [
    "### Lecture des fichiers"
   ]
  },
  {
   "cell_type": "code",
   "execution_count": 8,
   "metadata": {},
   "outputs": [
    {
     "ename": "NameError",
     "evalue": "name 'frameIndexationTime' is not defined",
     "output_type": "error",
     "traceback": [
      "\u001b[1;31m---------------------------------------------------------------------------\u001b[0m",
      "\u001b[1;31mNameError\u001b[0m                                 Traceback (most recent call last)",
      "\u001b[1;32mc:\\Users\\loicn\\OneDrive - polymtl.ca\\Polymtl\\Session_5\\INF8770_TEC_MULTIMEDIA\\Lab\\Lab3\\Lab3.ipynb Cell 6\u001b[0m line \u001b[0;36m7\n\u001b[0;32m      <a href='vscode-notebook-cell:/c%3A/Users/loicn/OneDrive%20-%20polymtl.ca/Polymtl/Session_5/INF8770_TEC_MULTIMEDIA/Lab/Lab3/Lab3.ipynb#W4sZmlsZQ%3D%3D?line=3'>4</a>\u001b[0m imageList \u001b[39m=\u001b[39m os\u001b[39m.\u001b[39mlistdir(currDirectory \u001b[39m+\u001b[39m imagePath)\n\u001b[0;32m      <a href='vscode-notebook-cell:/c%3A/Users/loicn/OneDrive%20-%20polymtl.ca/Polymtl/Session_5/INF8770_TEC_MULTIMEDIA/Lab/Lab3/Lab3.ipynb#W4sZmlsZQ%3D%3D?line=4'>5</a>\u001b[0m videoList \u001b[39m=\u001b[39m os\u001b[39m.\u001b[39mlistdir(currDirectory \u001b[39m+\u001b[39m videoPath)\n\u001b[1;32m----> <a href='vscode-notebook-cell:/c%3A/Users/loicn/OneDrive%20-%20polymtl.ca/Polymtl/Session_5/INF8770_TEC_MULTIMEDIA/Lab/Lab3/Lab3.ipynb#W4sZmlsZQ%3D%3D?line=6'>7</a>\u001b[0m verifyFrameIndexationTime()\n\u001b[0;32m      <a href='vscode-notebook-cell:/c%3A/Users/loicn/OneDrive%20-%20polymtl.ca/Polymtl/Session_5/INF8770_TEC_MULTIMEDIA/Lab/Lab3/Lab3.ipynb#W4sZmlsZQ%3D%3D?line=8'>9</a>\u001b[0m \u001b[39m# for file in imageList:\u001b[39;00m\n\u001b[0;32m     <a href='vscode-notebook-cell:/c%3A/Users/loicn/OneDrive%20-%20polymtl.ca/Polymtl/Session_5/INF8770_TEC_MULTIMEDIA/Lab/Lab3/Lab3.ipynb#W4sZmlsZQ%3D%3D?line=9'>10</a>\u001b[0m \u001b[39m#     filePath = currDirectory + dataPath + file\u001b[39;00m\n\u001b[0;32m     <a href='vscode-notebook-cell:/c%3A/Users/loicn/OneDrive%20-%20polymtl.ca/Polymtl/Session_5/INF8770_TEC_MULTIMEDIA/Lab/Lab3/Lab3.ipynb#W4sZmlsZQ%3D%3D?line=10'>11</a>\u001b[0m \u001b[39m#     img = cv.imread(filePath, cv.IMREAD_COLOR)\u001b[39;00m\n",
      "\u001b[1;32mc:\\Users\\loicn\\OneDrive - polymtl.ca\\Polymtl\\Session_5\\INF8770_TEC_MULTIMEDIA\\Lab\\Lab3\\Lab3.ipynb Cell 6\u001b[0m line \u001b[0;36m7\n\u001b[0;32m      <a href='vscode-notebook-cell:/c%3A/Users/loicn/OneDrive%20-%20polymtl.ca/Polymtl/Session_5/INF8770_TEC_MULTIMEDIA/Lab/Lab3/Lab3.ipynb#W4sZmlsZQ%3D%3D?line=4'>5</a>\u001b[0m videoToReindex \u001b[39m=\u001b[39m []\n\u001b[0;32m      <a href='vscode-notebook-cell:/c%3A/Users/loicn/OneDrive%20-%20polymtl.ca/Polymtl/Session_5/INF8770_TEC_MULTIMEDIA/Lab/Lab3/Lab3.ipynb#W4sZmlsZQ%3D%3D?line=5'>6</a>\u001b[0m totalIndexationTime \u001b[39m=\u001b[39m \u001b[39m0\u001b[39m\n\u001b[1;32m----> <a href='vscode-notebook-cell:/c%3A/Users/loicn/OneDrive%20-%20polymtl.ca/Polymtl/Session_5/INF8770_TEC_MULTIMEDIA/Lab/Lab3/Lab3.ipynb#W4sZmlsZQ%3D%3D?line=6'>7</a>\u001b[0m \u001b[39mfor\u001b[39;00m i \u001b[39min\u001b[39;00m \u001b[39mrange\u001b[39m(\u001b[39m0\u001b[39m, \u001b[39mlen\u001b[39m(frameIndexationTime)):\n\u001b[0;32m      <a href='vscode-notebook-cell:/c%3A/Users/loicn/OneDrive%20-%20polymtl.ca/Polymtl/Session_5/INF8770_TEC_MULTIMEDIA/Lab/Lab3/Lab3.ipynb#W4sZmlsZQ%3D%3D?line=7'>8</a>\u001b[0m     totalIndexationTime \u001b[39m+\u001b[39m\u001b[39m=\u001b[39m frameIndexationTime[i]\n\u001b[0;32m      <a href='vscode-notebook-cell:/c%3A/Users/loicn/OneDrive%20-%20polymtl.ca/Polymtl/Session_5/INF8770_TEC_MULTIMEDIA/Lab/Lab3/Lab3.ipynb#W4sZmlsZQ%3D%3D?line=8'>9</a>\u001b[0m     \u001b[39mif\u001b[39;00m(frameIndexationTime[i] \u001b[39m>\u001b[39m maxFrameIndexationTime):\n",
      "\u001b[1;31mNameError\u001b[0m: name 'frameIndexationTime' is not defined"
     ]
    }
   ],
   "source": [
    "imagePath = \"/data/jpeg/\"\n",
    "videoPath = \"/data/mp4/\"\n",
    "currDirectory = os.getcwd()\n",
    "imageList = os.listdir(currDirectory + imagePath)\n",
    "videoList = os.listdir(currDirectory + videoPath)\n",
    "# for file in imageList:\n",
    "#     filePath = currDirectory + dataPath + file\n",
    "#     img = cv.imread(filePath, cv.IMREAD_COLOR)"
   ]
  },
  {
   "cell_type": "code",
   "execution_count": null,
   "metadata": {},
   "outputs": [],
   "source": [
    "def indexImage(image):\n",
    "    "
   ]
  },
  {
   "cell_type": "code",
   "execution_count": null,
   "metadata": {},
   "outputs": [],
   "source": [
    "def videoCompressionRate(indexedVideo, video):"
   ]
  },
  {
   "cell_type": "code",
   "execution_count": null,
   "metadata": {},
   "outputs": [],
   "source": [
    "def imageCompressionRate(indexedImage, image):"
   ]
  },
  {
   "cell_type": "code",
   "execution_count": null,
   "metadata": {},
   "outputs": [],
   "source": [
    "def writeSearchResults():\n",
    "    "
   ]
  },
  {
   "cell_type": "code",
   "execution_count": null,
   "metadata": {},
   "outputs": [],
   "source": [
    "def searchImage():\n",
    "    "
   ]
  },
  {
   "cell_type": "code",
   "execution_count": 27,
   "metadata": {},
   "outputs": [],
   "source": [
    "def verifyFrameIndexationTime():\n",
    "    \"\"\"Function to verify if the indexation time of each frame is less than the max time allowed for indexation per frame.\"\"\"\n",
    "    videoToReindex = []\n",
    "    totalIndexationTime = 0\n",
    "    for i in range(0, len(frameIndexationTime)):\n",
    "        totalIndexationTime += frameIndexationTime[i]\n",
    "        if(frameIndexationTime[i] > maxFrameIndexationTime):\n",
    "            videoToReindex.append(i)\n",
    "    if len(videoToReindex) != 0:\n",
    "        print(\"Les vidéos suivantes doivent être réindexées car elles prennent plus de temps que le temps maximal d'indexation par frame: \" + str(maxFrameIndexationTime) + \" secondes\")\n",
    "        for i in range(0, len(videoToReindex)):\n",
    "            print(videoList[videoToReindex[i]])\n",
    "    print(\"Toutes les vidéos ont été correctement indexées\\nLe temps d'indexation total est: \" + str(totalIndexationTime/60.0) + \" minutes\")\n"
   ]
  },
  {
   "cell_type": "code",
   "execution_count": 32,
   "metadata": {},
   "outputs": [],
   "source": [
    "def verifyImageSearchTime():\n",
    "    \"\"\"Function to verify if the search time for each image is less than the max time allowed for search per image.\"\"\"\n",
    "    imageToResearch = []\n",
    "    totalSearchTime = 0\n",
    "    for i in range(0, len(imageSearchTime)):\n",
    "        totalSearchTime += imageSearchTime[i]\n",
    "        if(imageSearchTime[i] > maxSearchTime):\n",
    "            imageToResearch.append(i)\n",
    "    if len(imageToResearch) != 0:\n",
    "        print(\"La recherche doit être révisée pour les images suivantes car elles prennent plus de temps que le temps maximal de recherche par image: \" + str(maxSearchTime) + \" secondes\")\n",
    "        for i in range(0, len(imageToResearch)):\n",
    "            print(imageList[imageToResearch[i]])\n",
    "    print(\"Le temps de recherche total est: \" + str(totalSearchTime) + \" secondes\")"
   ]
  },
  {
   "cell_type": "code",
   "execution_count": 33,
   "metadata": {},
   "outputs": [
    {
     "name": "stdout",
     "output_type": "stream",
     "text": [
      "La recherche doit être révisée pour les images suivantes car elles prennent plus de temps que le temps maximal de recherche par image: 0.1 secondes\n",
      "i000.jpeg\n",
      "i001.jpeg\n",
      "i002.jpeg\n",
      "i003.jpeg\n",
      "Le temps de recherche total est: 10 secondes\n"
     ]
    }
   ],
   "source": [
    "# Cell for test purposes\n",
    "imageSearchTime = [1,2,3,4]\n",
    "verifyImageSearchTime()"
   ]
  }
 ],
 "metadata": {
  "kernelspec": {
   "display_name": "Python 3",
   "language": "python",
   "name": "python3"
  },
  "language_info": {
   "codemirror_mode": {
    "name": "ipython",
    "version": 3
   },
   "file_extension": ".py",
   "mimetype": "text/x-python",
   "name": "python",
   "nbconvert_exporter": "python",
   "pygments_lexer": "ipython3",
   "version": "3.11.8"
  }
 },
 "nbformat": 4,
 "nbformat_minor": 2
}
