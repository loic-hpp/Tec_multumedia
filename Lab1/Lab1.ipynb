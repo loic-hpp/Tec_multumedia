{
 "cells": [
  {
   "cell_type": "code",
   "execution_count": 1,
   "id": "a1537b70",
   "metadata": {},
   "outputs": [
    {
     "name": "stdout",
     "output_type": "stream",
     "text": [
      "Requirement already satisfied: opencv-python in c:\\users\\loicn\\appdata\\local\\packages\\pythonsoftwarefoundation.python.3.11_qbz5n2kfra8p0\\localcache\\local-packages\\python311\\site-packages (4.9.0.80)\n",
      "Requirement already satisfied: numpy>=1.21.2 in c:\\users\\loicn\\appdata\\local\\packages\\pythonsoftwarefoundation.python.3.11_qbz5n2kfra8p0\\localcache\\local-packages\\python311\\site-packages (from opencv-python) (1.26.3)\n",
      "Note: you may need to restart the kernel to use updated packages.\n",
      "Requirement already satisfied: numpy in c:\\users\\loicn\\appdata\\local\\packages\\pythonsoftwarefoundation.python.3.11_qbz5n2kfra8p0\\localcache\\local-packages\\python311\\site-packages (1.26.3)\n",
      "Note: you may need to restart the kernel to use updated packages.\n"
     ]
    }
   ],
   "source": [
    "%pip install opencv-python\n",
    "%pip install numpy\n",
    "import numpy as np\n",
    "import cv2 as cv\n",
    "import copy\n",
    "import os"
   ]
  },
  {
   "cell_type": "markdown",
   "id": "622b4240",
   "metadata": {},
   "source": [
    "# Question 2 compression avec LZW"
   ]
  },
  {
   "cell_type": "code",
   "execution_count": 2,
   "id": "cc694f8a",
   "metadata": {},
   "outputs": [
    {
     "name": "stdout",
     "output_type": "stream",
     "text": [
      "['AAAAAAAAAAAAAAAAABBABAAAAAAAAAAAABAAAAAAAAAAAAAABBAAAAAAAABAAAAAAAAAAAAAAAAAAAAAAAAA', 'AAAAABBBBBBBBBAAAAAAAAABBBBBBBCBBBBAAACACBCBBBBBBBBBAAAAAAAAACAAAABBBBAAAAABB', 'FOFOFOEOKOWKOOWONOOOOOOWOENFOEOOOJSODNOJFSOJKOOOOBV', 'Lorem ipsum dolor sit amet, consectetur adipiscing elit. Nulla posuere ligula id nibh egestas, id sollicitudin nisi interdum. Integer a elit sed sem egestas interdum vitae id risus. ', 'Aliquam placerat dictum lectus vel pellentesque. Vestibulum semper dui lacus, sed commodo dolor maximus a. Praesent convallis in quam in posuere. Ut eleifend tortor a laoreet imperdiet. Sed pharetra risus sit amet velit cursus semper. Nam congue ac lectus sit amet laoreet. Integer quis lacinia turpis. Maecenas erat orci, porttitor ac ligula dapibus, interdum fringilla nunc. Proin auctor, arcu ac fermentum ultricies, erat justo laoreet nunc, sit amet lacinia lorem elit vel dolor. Aenean fermentum, mi sed iaculis laoreet, mauris nibh accumsan mauris, imperdiet pretium dui enim sit amet massa. Quisque sit amet tristique eros, eget lacinia tellus. Nam quis risus maximus, laoreet felis sit amet, efficitur neque. In pharetra urna at erat facilisis lobortis a eu orci.Donec suscipit, mi et porttitor ullamcorper, dui nisi mollis tortor, a facilisis elit enim ut metus. Cras sed dui sit amet metus sodales pretium at vitae magna. Donec ut efficitur leo, sit amet malesuada arcu. Mauris viverra viverra semper. Nam finibus ut sapien feugiat porttitor. Sed ornare laoreet libero ac semper. Ut vehicula luctus dui. Suspendisse ultrices luctus erat, in iaculis velit ultrices sit amet. Nulla a pulvinar ligula. Nulla at diam maximus, dignissim sapien dignissim, malesuada nulla. Proin in dui finibus, finibus nisl id, vehicula mauris. ']\n"
     ]
    }
   ],
   "source": [
    "# Get data in this cell\n",
    "messageList = []\n",
    "dataPath = \"/data TP1/textes/\"\n",
    "currDirectory = os.getcwd()\n",
    "fileList = os.listdir(currDirectory + dataPath)\n",
    "for file in fileList:\n",
    "    filePath = currDirectory + dataPath + file\n",
    "    if file.endswith(\".txt\"):\n",
    "        with open(filePath, 'r') as f:\n",
    "            messageList += [f.read()]\n",
    "            \n",
    "print(messageList)\n",
    "message = \"ABAABAABACABBABCDAADACABABAAABAABBABABAABAAB\""
   ]
  },
  {
   "cell_type": "code",
   "execution_count": 3,
   "id": "2b5620ad",
   "metadata": {},
   "outputs": [],
   "source": [
    "def encode(message : str):\n",
    "    dictsymb =[message[0]]\n",
    "    dictbin = [\"{:b}\".format(0)]\n",
    "    nbsymboles = 1\n",
    "    for i in range(1,len(message)):\n",
    "        if message[i] not in dictsymb:\n",
    "            dictsymb += [message[i]]\n",
    "            dictbin += [\"{:b}\".format(nbsymboles)] \n",
    "            nbsymboles +=1    \n",
    "    longueurOriginale = np.ceil(np.log2(nbsymboles))*len(message)   \n",
    "    for i in range(nbsymboles):\n",
    "        dictbin[i] = \"{:b}\".format(i).zfill(int(np.ceil(np.log2(nbsymboles))))  \n",
    "        dictsymb.sort()\n",
    "        dictionnaire = np.transpose([dictsymb,dictbin])\n",
    "    basicdictsymb = copy.deepcopy(dictsymb)\n",
    "    basicdictbin = copy.deepcopy(dictbin)\n",
    "        \n",
    "    #encode\n",
    "    i=0\n",
    "    messageCode = []\n",
    "    longueur = 0\n",
    "    while i < len(message):\n",
    "        precsouschaine = message[i] #sous-chaine qui sera codé\n",
    "        souschaine = message[i] #sous-chaine qui sera codé + 1 caractère (pour le dictionnaire)\n",
    "\n",
    "        #Cherche la plus grande sous-chaine. On ajoute un caractère au fur et à mesure.\n",
    "        while souschaine in dictsymb and i < len(message):\n",
    "            i += 1\n",
    "            precsouschaine = souschaine\n",
    "            if i < len(message):  #Si on a pas atteint la fin du message\n",
    "                souschaine += message[i]  \n",
    "\n",
    "        #Codage de la plus grande sous-chaine à l'aide du dictionnaire  \n",
    "        codebinaire = [dictbin[dictsymb.index(precsouschaine)]]\n",
    "        messageCode += codebinaire\n",
    "        longueur += len(codebinaire[0]) \n",
    "        #Ajout de la sous-chaine codé + symbole suivant dans le dictionnaire.\n",
    "        if i < len(message):\n",
    "            dictsymb += [souschaine]\n",
    "            dictbin += [\"{:b}\".format(nbsymboles)] \n",
    "            nbsymboles +=1\n",
    "\n",
    "        #Ajout de 1 bit si requis\n",
    "        if np.ceil(np.log2(nbsymboles)) > len(messageCode[-1]):\n",
    "            for j in range(nbsymboles):\n",
    "                dictbin[j] = \"{:b}\".format(j).zfill(int(np.ceil(np.log2(nbsymboles))))\n",
    "    return messageCode, basicdictsymb, basicdictbin"
   ]
  },
  {
   "cell_type": "code",
   "execution_count": 4,
   "id": "8ee8af87",
   "metadata": {},
   "outputs": [],
   "source": [
    "def decode(message : str, basicdictsymb, basicdictbin):    \n",
    "    dictsymb = basicdictsymb\n",
    "    dictbin = basicdictbin\n",
    "    \n",
    "    # decode the message\n",
    "    i=0\n",
    "    decodedMessage = \"\"\n",
    "    nbsymboles = len(basicdictsymb)\n",
    "    nbBitUsed = int(np.ceil(np.log2(nbsymboles)))\n",
    "    while i < len(message):\n",
    "        currSymb = dictsymb[dictbin.index(message[i])]\n",
    "        decodedMessage += currSymb\n",
    "        # add the new symbol to the dictionary\n",
    "        nbsymboles += 1\n",
    "        nbBitUsed = int(np.ceil(np.log2(nbsymboles)))\n",
    "        dictbin += [\"{:b}\".format(nbsymboles)] \n",
    "        # add 1bit if required\n",
    "        if 2**nbBitUsed > len(dictsymb):\n",
    "            for j in range(nbsymboles):\n",
    "                dictbin[j] = \"{:b}\".format(j).zfill(int(np.ceil(np.log2(nbsymboles))))\n",
    "        if i+1 < len(message):\n",
    "            try:\n",
    "                nextSymb = dictsymb[dictbin.index(message[i+1])]\n",
    "            except:\n",
    "                nextSymb = currSymb\n",
    "        \n",
    "        dictsymb += [currSymb+nextSymb[0]]\n",
    "        i+=1\n",
    "    return decodedMessage\n",
    "        \n",
    "        "
   ]
  },
  {
   "cell_type": "code",
   "execution_count": 5,
   "id": "e6addfc4",
   "metadata": {},
   "outputs": [
    {
     "name": "stdout",
     "output_type": "stream",
     "text": [
      "Message original :  AAAAAAAAAAAAAAAAABBABAAAAAAAAAAAABAAAAAAAAAAAAAABBAAAAAAAABAAAAAAAAAAAAAAAAAAAAAAAAA\n",
      "Message encodé :  ['0', '10', '11', '100', '101', '010', '001', '0001', '0000', '1001', '0110', '0101', '1011', '1100', '1101', '01110', '01101', '01111', '10011', '01111']\n",
      "Message décodé :  AAAAAAAAAAAAAAAAABBABAAAAAAAAAAAABAAAAAAAAAAAAAABBAAAAAAAABAAAAAAAAAAAAAAAAAAAAAAAAA\n",
      "Message original :  AAAAABBBBBBBBBAAAAAAAAABBBBBBBCBBBBAAACACBCBBBBBBBBBAAAAAAAAACAAAABBBBAAAAABB\n",
      "Message encodé :  ['00', '11', '011', '001', '110', '111', '0111', '0100', '1010', '0101', '1000', '0110', '0010', '1000', '00100', '00010', '00000', '01111', '01111', '01101', '01001', '01011', '10001', '01010', '10000', '11010', '00001']\n",
      "Message décodé :  AAAAABBBBBBBBBAAAAAAAAABBBBBBBCBBBBAAACACBCBBBBBBBBBAAAAAAAAACAAAABBBBAAAAABB\n",
      "Message original :  FOFOFOEOKOWKOOWONOOOOOOWOENFOEOOOJSODNOJFSOJKOOOOBV\n",
      "Message encodé :  ['0011', '0111', '1011', '1011', '0010', '0111', '00101', '00111', '01010', '10001', '10010', '00111', '00110', '00111', '11000', '11001', '01010', '00111', '00010', '00110', '01110', '11001', '000100', '001000', '000111', '000001', '010111', '000100', '000011', '100010', '000100', '010100', '011000', '000000', '001001']\n",
      "Message décodé :  FOFOFOEOKOWKOOWONOOOOOOWOENFOEOOOJSODNOJFSOJKOOOOBV\n",
      "Message original :  Lorem ipsum dolor sit amet, consectetur adipiscing elit. Nulla posuere ligula id nibh egestas, id sollicitudin nisi interdum. Integer a elit sed sem egestas interdum vitae id risus. \n",
      "Message encodé :  ['00100', '10001', '10011', '01010', '01111', '00000', '01101', '10010', '10100', '010110', '011100', '001001', '010001', '001110', '011001', '000000', '010100', '001101', '010101', '000000', '000110', '001111', '001010', '010101', '000001', '000000', '001000', '010001', '010000', '010100', '001010', '001000', '010101', '101110', '010110', '010011', '101011', '001001', '011110', '001101', '010100', '0001000', '0001101', '0010000', '0001011', '0000000', '0001010', '0001110', '0101001', '0000010', '0000000', '0000101', '0010110', '0001110', '0001110', '0000110', '0000000', '0010010', '0010001', '0100000', '0001010', '0011010', '0000000', '1000111', '0001011', '1001100', '1001111', '0001101', '0001001', '0000000', '0010000', '0001101', '0000111', '0001100', '1000101', '0001011', '0001010', '0010100', '0010101', '0000110', '0010100', '0110000', '1011011', '0100111', '0100100', '1000111', '1000001', '0010101', '0010110', '0111101', '0010000', '1011101', '0111111', '0001101', '0011101', '0010000', '0111000', '0010011', '0001001', '0100001', '1001001', '0000011', '1110111', '0001010', '1100011', '00111011', '01001111', '01000110', '00101001', '00100111', '00001010', '01011100', '00110101', '00011100', '01111111', '01100100', '01100110', '00010100', '01110110', '01111000', '01111010', '00011100', '00010111', '00101001', '00000110', '00001010', '00011101', '01011100', '00010011', '00111111', '00010110', '00010100', '01001001']\n",
      "Message décodé :  Lorem ipsum dolor sit amet, consectetur adipiscing elit. Nulla posuere ligula id nibh egestas, id sollicitudin nisi interdum. Integer a elit sed sem egestas interdum vitae id risus. \n",
      "Message original :  Aliquam placerat dictum lectus vel pellentesque. Vestibulum semper dui lacus, sed commodo dolor maximus a. Praesent convallis in quam in posuere. Ut eleifend tortor a laoreet imperdiet. Sed pharetra risus sit amet velit cursus semper. Nam congue ac lectus sit amet laoreet. Integer quis lacinia turpis. Maecenas erat orci, porttitor ac ligula dapibus, interdum fringilla nunc. Proin auctor, arcu ac fermentum ultricies, erat justo laoreet nunc, sit amet lacinia lorem elit vel dolor. Aenean fermentum, mi sed iaculis laoreet, mauris nibh accumsan mauris, imperdiet pretium dui enim sit amet massa. Quisque sit amet tristique eros, eget lacinia tellus. Nam quis risus maximus, laoreet felis sit amet, efficitur neque. In pharetra urna at erat facilisis lobortis a eu orci.Donec suscipit, mi et porttitor ullamcorper, dui nisi mollis tortor, a facilisis elit enim ut metus. Cras sed dui sit amet metus sodales pretium at vitae magna. Donec ut efficitur leo, sit amet malesuada arcu. Mauris viverra viverra semper. Nam finibus ut sapien feugiat porttitor. Sed ornare laoreet libero ac semper. Ut vehicula luctus dui. Suspendisse ultrices luctus erat, in iaculis velit ultrices sit amet. Nulla a pulvinar ligula. Nulla at diam maximus, dignissim sapien dignissim, malesuada nulla. Proin in dui finibus, finibus nisl id, vehicula mauris. \n",
      "Message encodé :  ['000011', '011000', '010110', '011101', '100001', '001110', '011001', '000000', '011100', '011000', '001110', '010000', '010010', '011110', '001110', '100000', '000000', '010001', '010110', '010000', '100000', '100001', '101010', '011000', '010010', '110111', '100001', '011111', '000000', '0100010', '0010010', '0011000', '0101011', '1000010', '0111011', '0011010', '0100000', '0010010', '0011111', '0100111', '0010010', '0000010', '0000000', '0001101', '1001001', '0100000', '0010110', '0001111', '0100001', '0011000', '0111001', '0000000', '0011111', '0010010', '0011001', '0011100', '0110000', '0110100', '0100001', '0010110', '0000000', '0101101', '0010000', '0111110', '0000001', '1010111', '0010010', '0010001', '0000000', '0010000', '0011011', '0011001', '0011001', '0011011', '0010001', '0011011', '0110100', '0011011', '0011000', '0011011', '0011110', '0000000', '0011001', '0001110', '0100011', '0010110', '0011001', '0111110', '0000000', '0001110', '1001101', '0001001', '0110001', '01001001', '00010010', '01000111', '01101000', '00011011', '00011010', '00100010', '00001110', '00011000', '00100101', '00111111', '00010110', '00011010', '00000000', '00100111', '00101001', '00000000', '10001100', '00101011', '00011011', '00011111', '00100001', '00110000', '01001100', '00000000', '00001100', '00110011', '01000010', '00010010', '00010110', '00010011', '10000010', '01100111', '00100000', '01110011', '10100010', '01110100', '00001110', '01100000', '00001110', '01110011', '00010010', '00010010', '00110011', '01111001', '01011011', '00011110', '00110101', '10101011', '01001101', '00001011', '01100110', '00101011', '00010101', '00001110', '00011110', '10101011', '00110001', '00000000', '00011110', '00010110', '10010101', '00111111', '00011111', '00010110', '00110011', '00101001', '10101011', '01000000', '01000010', '11000001', '01101000', '00100001', '00011110', '10111110', '01100101', '01011010', '00110000', '01001101', '00001000', '10010000', '01101001', '00011010', '00010100', '10010110', '01111100', '00010000', '01100000', '00111100', '00111000', '10111111', '11000111', '11000011', '00110011', '00101101', '10101001', '10110001', '00000000', '00000110', '01000111', '00010010', '00010100', '01011100', '00100111', '10111101', '10100111', '00010000', '10001100', '00010110', '10100110', '00111000', '00011110', '00011100', '10111101', '01001101', '00000111', '00001110', '00111100', '10000010', '00001110', '00111111', '00110000', '00110010', '00000000', '01110011', '11101011', '01100100', '00011100', '010100011', '001010001', '010100100', '011010110', '001100000', '000010110', '011010100', '000101101', '000110100', '000001110', '011110001', '001010011', '000011111', '001100100', '010001100', '001001000', '010101111', '001010110', '000010011', '010111100', '011010011', '000010110', '010001001', '010100110', '000011010', '000100001', '000011010', '000010000', '001111110', '000011110', '000011011', '010010010', '000001110', '000100001', '000110111', '001110011', '001100100', '010110111', '001100010', '100000100', '010011111', '000011110', '000011001', '010000010', '000111000', '000101010', '001010100', '000100000', '010111100', '011101011', '001001001', '001100100', '011111010', '000110011', '000010111', '000111110', '010100010', '010100111', '011100000', '000110011', '100011001', '100011011', '001100100', '011000000', '011000010', '100101011', '011011110', '000101110', '011101100', '010100110', '001110010', '010111000', '000101010', '011000110', '000110011', '001000001', '001000011', '001101110', '101000111', '001001101', '000000011', '010000010', '000010010', '000001110', '010001101', '100101001', '100101011', '001000111', '000111001', '001100100', '000011001', '001011111', '001011000', '001100111', '011101101', '001100010', '010001010', '100111010', '010111000', '010101011', '101011010', '100100001', '010111100', '000111111', '000011010', '001010010', '000010101', '011010110', '001100010', '000011001', '000011111', '101010100', '001110101', '101100110', '010111101', '100001110', '011001101', '010101111', '000010110', '011000100', '000011100', '010111000', '001010001', '001010110', '000010001', '001011110', '000000000', '010000010', '001111001', '001010111', '011011100', '101000010', '101110001', '000011111', '101101111', '001001101', '000001010', '001011110', '001001010', '011010101', '101000000', '001111100', '110000100', '100110000', '010111101', '001010001', '001001011', '101111111', '100011110', '100001101', '101111111', '011100110', '101000011', '011101011', '101101001', '011101110', '001000101', '000111110', '011001111', '010010000', '011101000', '000111111', '101100111', '001111011', '001110110', '001111000', '001111010', '110010110', '011011111', '101100011', '000110011', '010011111', '101100001', '110001101', '011011101', '100110100', '000010011', '000010011', '000110110', '011000001', '011001001', '000000000', '000011010', '000010010', '001001011', '001001101', '011100011', '010110101', '010110111', '010111001', '010100110', '011001001', '000011010', '010100110', '011111011', '100110101', '000000000', '000010011', '101000100', '010001010', '011101001', '001110010', '000001111', '010100011', '011101001', '010100110', '000010010', '000100001', '011111100', '000011110', '011101011', '000000010', '000000101', '010000101', '000111100', '001010111', '000111110', '011101011', '011110001', '000100000', '101011010', '001011111', '101111000', '100000001', '011000001', '001110011', '000000000', '001010100', '000101101', '000011001', '001101001', '011110000', '000110000', '001100100', '101111101', '001011111', '101101001', '011000000', '001110101', '001110001', '101100001', '010100100', '010100100', '100100101', '111000101', '111000111', '010111101', '011101001', '101001010', '101111111', '101101001', '100101110', '000110011', '101000010', '110011110', '000000000', '0000000100', '0000110001', '0010111111', '0010110100', '0111101011', '0110000010', '0101000001', '0011000100', '0111111110', '0010111111', '0001101101', '0010001000', '0001001001', '0000101011', '0101111010', '0000010110', '0001010110', '0011111011', '0000100010', '0011000001', '0011110101', '0101110001', '0000010100', '0111000001', '0001001101', '0111010101', '0110110111', '0011010111', '0000100001', '0010011011', '0110110001', '0110110011', '0011101111', '0011011000', '0000011011', '0100111111', '0110000011', '1000001000', '1000001100', '0010010101', '0000001110', '0000010001', '0111000010', '0111010010', '0000100001', '0011110011', '0101110010', '0000111111', '1000010011', '0001000001', '0000011110', '0010111010', '1000110001', '0000110000', '0010111010', '0001011000', '0101110101', '0110011111', '0000101010', '0110110010', '0101101001', '0100001100', '0111100011', '0000110011', '0101101111', '0011110001', '0010000010', '0111000101', '0111001111', '0000010100', '0011101101', '0000110011', '0100000000', '0000011110', '0000100000', '0100000010', '0001110011', '0010110010', '0010110100', '0001110011', '0111000001', '0010111000', '0101100010', '0010101010', '0011011110', '0001010010', '0000110000', '0001101111', '0000101110', '0011001100', '0010101110', '0001001101', '0010011010', '0011000101', '0000010101', '0000110110', '0001010100', '0101000110', '0100100010', '0011011010', '0001011101', '0000010110', '0010110010', '0000111110', '0001011011', '0000011010', '0000110101', '0110000110', '0000010010', '0111100011', '0000011000', '0110010000', '0000101111', '0000111111', '0001010101', '0000111101', '0011111001', '0000110001', '0111011100', '0010010001', '0010001101', '0101011111', '0001010100', '0011101001', '0101001100', '0011000111', '0100101111', '0100110001', '1000001101', '0110101110', '0101000010', '0011001111', '0111100100', '0111000010', '0000101011', '0001010100', '1000010011', '1001010001', '0100000101', '0100000111', '0001111101', '0000000000', '0000001000', '1010000101', '0001111100', '0000110011', '0000110101', '0010010000', '0110100101', '0001111001', '0001100011', '0000110100', '0100000110', '0111101101', '0011000000', '0000101010', '1001000001', '0101110111', '0010001101', '0000110101', '1000010111', '0010111101', '1010011011', '0101100101', '0000111011', '1000101000', '1000101010', '0110110110', '1010000101', '0100011101', '0100011111', '1001111001', '1010011111', '0101111110', '1000111100', '0001010010', '1010010111', '1010101111', '1000111110', '0111101101', '0001000011', '0000010110', '0000010001', '0001100100', '0001000001', '1001011111', '0101100000', '0010100110', '0001110110', '0011001001', '0011110010', '0000000000']\n",
      "Message décodé :  Aliquam placerat dictum lectus vel pellentesque. Vestibulum semper dui lacus, sed commodo dolor maximus a. Praesent convallis in quam in posuere. Ut eleifend tortor a laoreet imperdiet. Sed pharetra risus sit amet velit cursus semper. Nam congue ac lectus sit amet laoreet. Integer quis lacinia turpis. Maecenas erat orci, porttitor ac ligula dapibus, interdum fringilla nunc. Proin auctor, arcu ac fermentum ultricies, erat justo laoreet nunc, sit amet lacinia lorem elit vel dolor. Aenean fermentum, mi sed iaculis laoreet, mauris nibh accumsan mauris, imperdiet pretium dui enim sit amet massa. Quisque sit amet tristique eros, eget lacinia tellus. Nam quis risus maximus, laoreet felis sit amet, efficitur neque. In pharetra urna at erat facilisis lobortis a eu orci.Donec suscipit, mi et porttitor ullamcorper, dui nisi mollis tortor, a facilisis elit enim ut metus. Cras sed dui sit amet metus sodales pretium at vitae magna. Donec ut efficitur leo, sit amet malesuada arcu. Mauris viverra viverra semper. Nam finibus ut sapien feugiat porttitor. Sed ornare laoreet libero ac semper. Ut vehicula luctus dui. Suspendisse ultrices luctus erat, in iaculis velit ultrices sit amet. Nulla a pulvinar ligula. Nulla at diam maximus, dignissim sapien dignissim, malesuada nulla. Proin in dui finibus, finibus nisl id, vehicula mauris. \n"
     ]
    }
   ],
   "source": [
    "for message in messageList:\n",
    "    print(\"Message original : \", message)\n",
    "    encodedMessage = encode(message)\n",
    "    print(\"Message encodé : \", encodedMessage[0])\n",
    "    print(\"Message décodé : \", decode(encodedMessage[0], encodedMessage[1], encodedMessage[2]))"
   ]
  }
 ],
 "metadata": {
  "kernelspec": {
   "display_name": "Python 3 (ipykernel)",
   "language": "python",
   "name": "python3"
  },
  "language_info": {
   "codemirror_mode": {
    "name": "ipython",
    "version": 3
   },
   "file_extension": ".py",
   "mimetype": "text/x-python",
   "name": "python",
   "nbconvert_exporter": "python",
   "pygments_lexer": "ipython3",
   "version": "3.11.7"
  }
 },
 "nbformat": 4,
 "nbformat_minor": 5
}
