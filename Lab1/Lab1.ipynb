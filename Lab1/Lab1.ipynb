{
 "cells": [
  {
   "cell_type": "code",
   "execution_count": 9,
   "id": "a1537b70",
   "metadata": {},
   "outputs": [
    {
     "name": "stdout",
     "output_type": "stream",
     "text": [
      "Requirement already satisfied: opencv-python in c:\\users\\loicn\\appdata\\local\\packages\\pythonsoftwarefoundation.python.3.11_qbz5n2kfra8p0\\localcache\\local-packages\\python311\\site-packages (4.9.0.80)Note: you may need to restart the kernel to use updated packages.\n",
      "\n",
      "Requirement already satisfied: numpy>=1.21.2 in c:\\users\\loicn\\appdata\\local\\packages\\pythonsoftwarefoundation.python.3.11_qbz5n2kfra8p0\\localcache\\local-packages\\python311\\site-packages (from opencv-python) (1.26.3)\n",
      "Requirement already satisfied: numpy in c:\\users\\loicn\\appdata\\local\\packages\\pythonsoftwarefoundation.python.3.11_qbz5n2kfra8p0\\localcache\\local-packages\\python311\\site-packages (1.26.3)\n",
      "Note: you may need to restart the kernel to use updated packages.\n"
     ]
    }
   ],
   "source": [
    "%pip install opencv-python\n",
    "%pip install numpy\n",
    "import numpy as np\n",
    "import cv2 as cv"
   ]
  },
  {
   "cell_type": "markdown",
   "id": "622b4240",
   "metadata": {},
   "source": [
    "# Question 2 compression avec LZW"
   ]
  },
  {
   "cell_type": "code",
   "execution_count": 10,
   "id": "cc694f8a",
   "metadata": {},
   "outputs": [],
   "source": [
    "# Get data in this cell\n",
    "message = \"ABAABAABACABBABCDAADACABABAAABAABBABABAABAAB\""
   ]
  },
  {
   "cell_type": "code",
   "execution_count": 11,
   "id": "2b5620ad",
   "metadata": {},
   "outputs": [],
   "source": [
    "def compress(message : str):\n",
    "    dictsymb =[message[0]]\n",
    "    dictbin = [\"{:b}\".format(0)]\n",
    "    nbsymboles = 1\n",
    "    for i in range(1,len(message)):\n",
    "        if message[i] not in dictsymb:\n",
    "            dictsymb += [message[i]]\n",
    "            dictbin += [\"{:b}\".format(nbsymboles)] \n",
    "            nbsymboles +=1    \n",
    "    longueurOriginale = np.ceil(np.log2(nbsymboles))*len(message)   \n",
    "    for i in range(nbsymboles):\n",
    "        dictbin[i] = \"{:b}\".format(i).zfill(int(np.ceil(np.log2(nbsymboles))))  \n",
    "        dictsymb.sort()\n",
    "        dictionnaire = np.transpose([dictsymb,dictbin])\n",
    "        \n",
    "    #encode\n",
    "    i=0\n",
    "    messageCode = []\n",
    "    longueur = 0\n",
    "    while i < len(message):\n",
    "        precsouschaine = message[i] #sous-chaine qui sera codé\n",
    "        souschaine = message[i] #sous-chaine qui sera codé + 1 caractère (pour le dictionnaire)\n",
    "\n",
    "        #Cherche la plus grande sous-chaine. On ajoute un caractère au fur et à mesure.\n",
    "        while souschaine in dictsymb and i < len(message):\n",
    "            i += 1\n",
    "            precsouschaine = souschaine\n",
    "            if i < len(message):  #Si on a pas atteint la fin du message\n",
    "                souschaine += message[i]  \n",
    "\n",
    "        #Codage de la plus grande sous-chaine à l'aide du dictionnaire  \n",
    "        codebinaire = [dictbin[dictsymb.index(precsouschaine)]]\n",
    "        messageCode += codebinaire\n",
    "        longueur += len(codebinaire[0]) \n",
    "        #Ajout de la sous-chaine codé + symbole suivant dans le dictionnaire.\n",
    "        if i < len(message):\n",
    "            dictsymb += [souschaine]\n",
    "            dictbin += [\"{:b}\".format(nbsymboles)] \n",
    "            nbsymboles +=1\n",
    "\n",
    "        #Ajout de 1 bit si requis\n",
    "        if np.ceil(np.log2(nbsymboles)) > len(messageCode[-1]):\n",
    "            for j in range(nbsymboles):\n",
    "                dictbin[j] = \"{:b}\".format(j).zfill(int(np.ceil(np.log2(nbsymboles))))\n",
    "    return messageCode"
   ]
  },
  {
   "cell_type": "code",
   "execution_count": 12,
   "id": "8ee8af87",
   "metadata": {},
   "outputs": [
    {
     "name": "stdout",
     "output_type": "stream",
     "text": [
      "['00', '001', '000', '100', '110', '0101', '0010', '0100', '0101', '0001', '0010', '0011', '0110', '01111', '01010', '01100', '00110', '00111', '01011', '00111', '00101', '10101', '00001']\n"
     ]
    }
   ],
   "source": [
    "def decompress(message : str):\n",
    "    "
   ]
  }
 ],
 "metadata": {
  "kernelspec": {
   "display_name": "Python 3 (ipykernel)",
   "language": "python",
   "name": "python3"
  },
  "language_info": {
   "codemirror_mode": {
    "name": "ipython",
    "version": 3
   },
   "file_extension": ".py",
   "mimetype": "text/x-python",
   "name": "python",
   "nbconvert_exporter": "python",
   "pygments_lexer": "ipython3",
   "version": "3.11.7"
  }
 },
 "nbformat": 4,
 "nbformat_minor": 5
}
