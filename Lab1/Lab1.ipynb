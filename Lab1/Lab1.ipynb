{
 "cells": [
  {
   "cell_type": "code",
   "execution_count": 3,
   "id": "a1537b70",
   "metadata": {},
   "outputs": [
    {
     "name": "stdout",
     "output_type": "stream",
     "text": [
      "Requirement already satisfied: opencv-python in c:\\users\\loicn\\appdata\\local\\packages\\pythonsoftwarefoundation.python.3.11_qbz5n2kfra8p0\\localcache\\local-packages\\python311\\site-packages (4.9.0.80)\n",
      "Requirement already satisfied: numpy>=1.21.2 in c:\\users\\loicn\\appdata\\local\\packages\\pythonsoftwarefoundation.python.3.11_qbz5n2kfra8p0\\localcache\\local-packages\\python311\\site-packages (from opencv-python) (1.26.3)\n",
      "Note: you may need to restart the kernel to use updated packages.\n",
      "Requirement already satisfied: numpy in c:\\users\\loicn\\appdata\\local\\packages\\pythonsoftwarefoundation.python.3.11_qbz5n2kfra8p0\\localcache\\local-packages\\python311\\site-packages (1.26.3)\n",
      "Note: you may need to restart the kernel to use updated packages.\n"
     ]
    }
   ],
   "source": [
    "%pip install opencv-python\n",
    "%pip install numpy\n",
    "import numpy as np\n",
    "import cv2 as cv\n",
    "import copy\n",
    "import os\n",
    "import time"
   ]
  },
  {
   "cell_type": "markdown",
   "id": "622b4240",
   "metadata": {},
   "source": [
    "# Question 2 compression avec LZW"
   ]
  },
  {
   "cell_type": "code",
   "execution_count": 4,
   "id": "cc694f8a",
   "metadata": {},
   "outputs": [
    {
     "name": "stdout",
     "output_type": "stream",
     "text": [
      "['AAAAAAAAAAAAAAAAABBABAAAAAAAAAAAABAAAAAAAAAAAAAABBAAAAAAAABAAAAAAAAAAAAAAAAAAAAAAAAA', 'AAAAABBBBBBBBBAAAAAAAAABBBBBBBCBBBBAAACACBCBBBBBBBBBAAAAAAAAACAAAABBBBAAAAABB', 'FOFOFOEOKOWKOOWONOOOOOOWOENFOEOOOJSODNOJFSOJKOOOOBV', 'Lorem ipsum dolor sit amet, consectetur adipiscing elit. Nulla posuere ligula id nibh egestas, id sollicitudin nisi interdum. Integer a elit sed sem egestas interdum vitae id risus. ', 'Aliquam placerat dictum lectus vel pellentesque. Vestibulum semper dui lacus, sed commodo dolor maximus a. Praesent convallis in quam in posuere. Ut eleifend tortor a laoreet imperdiet. Sed pharetra risus sit amet velit cursus semper. Nam congue ac lectus sit amet laoreet. Integer quis lacinia turpis. Maecenas erat orci, porttitor ac ligula dapibus, interdum fringilla nunc. Proin auctor, arcu ac fermentum ultricies, erat justo laoreet nunc, sit amet lacinia lorem elit vel dolor. Aenean fermentum, mi sed iaculis laoreet, mauris nibh accumsan mauris, imperdiet pretium dui enim sit amet massa. Quisque sit amet tristique eros, eget lacinia tellus. Nam quis risus maximus, laoreet felis sit amet, efficitur neque. In pharetra urna at erat facilisis lobortis a eu orci.Donec suscipit, mi et porttitor ullamcorper, dui nisi mollis tortor, a facilisis elit enim ut metus. Cras sed dui sit amet metus sodales pretium at vitae magna. Donec ut efficitur leo, sit amet malesuada arcu. Mauris viverra viverra semper. Nam finibus ut sapien feugiat porttitor. Sed ornare laoreet libero ac semper. Ut vehicula luctus dui. Suspendisse ultrices luctus erat, in iaculis velit ultrices sit amet. Nulla a pulvinar ligula. Nulla at diam maximus, dignissim sapien dignissim, malesuada nulla. Proin in dui finibus, finibus nisl id, vehicula mauris. ']\n"
     ]
    }
   ],
   "source": [
    "# Get data in this cell\n",
    "messageList = []\n",
    "dataPath = \"/data TP1/textes/\"\n",
    "currDirectory = os.getcwd()\n",
    "fileList = os.listdir(currDirectory + dataPath)\n",
    "for file in fileList:\n",
    "    filePath = currDirectory + dataPath + file\n",
    "    if file.endswith(\".txt\"):\n",
    "        with open(filePath, 'r') as f:\n",
    "            messageList += [f.read()]\n",
    "            \n",
    "print(messageList)\n",
    "message = \"ABAABAABACABBABCDAADACABABAAABAABBABABAABAAB\""
   ]
  },
  {
   "cell_type": "code",
   "execution_count": 5,
   "id": "2b5620ad",
   "metadata": {},
   "outputs": [],
   "source": [
    "def encode(message : str):\n",
    "    dictsymb =[message[0]]\n",
    "    dictbin = [\"{:b}\".format(0)]\n",
    "    nbsymboles = 1\n",
    "    for i in range(1,len(message)):\n",
    "        if message[i] not in dictsymb:\n",
    "            dictsymb += [message[i]]\n",
    "            dictbin += [\"{:b}\".format(nbsymboles)] \n",
    "            nbsymboles +=1    \n",
    "    longueurOriginale = np.ceil(np.log2(nbsymboles))*len(message)   \n",
    "    for i in range(nbsymboles):\n",
    "        dictbin[i] = \"{:b}\".format(i).zfill(int(np.ceil(np.log2(nbsymboles))))  \n",
    "        dictsymb.sort()\n",
    "        dictionnaire = np.transpose([dictsymb,dictbin])\n",
    "    basicdictsymb = copy.deepcopy(dictsymb)\n",
    "    basicdictbin = copy.deepcopy(dictbin)\n",
    "        \n",
    "    #encode\n",
    "    i=0\n",
    "    messageCode = []\n",
    "    longueur = 0\n",
    "    while i < len(message):\n",
    "        precsouschaine = message[i] #sous-chaine qui sera codé\n",
    "        souschaine = message[i] #sous-chaine qui sera codé + 1 caractère (pour le dictionnaire)\n",
    "\n",
    "        #Cherche la plus grande sous-chaine. On ajoute un caractère au fur et à mesure.\n",
    "        while souschaine in dictsymb and i < len(message):\n",
    "            i += 1\n",
    "            precsouschaine = souschaine\n",
    "            if i < len(message):  #Si on a pas atteint la fin du message\n",
    "                souschaine += message[i]  \n",
    "\n",
    "        #Codage de la plus grande sous-chaine à l'aide du dictionnaire  \n",
    "        codebinaire = [dictbin[dictsymb.index(precsouschaine)]]\n",
    "        messageCode += codebinaire\n",
    "        longueur += len(codebinaire[0]) \n",
    "        #Ajout de la sous-chaine codé + symbole suivant dans le dictionnaire.\n",
    "        if i < len(message):\n",
    "            dictsymb += [souschaine]\n",
    "            dictbin += [\"{:b}\".format(nbsymboles)] \n",
    "            nbsymboles +=1\n",
    "\n",
    "        #Ajout de 1 bit si requis\n",
    "        if np.ceil(np.log2(nbsymboles)) > len(messageCode[-1]):\n",
    "            for j in range(nbsymboles):\n",
    "                dictbin[j] = \"{:b}\".format(j).zfill(int(np.ceil(np.log2(nbsymboles))))\n",
    "    return messageCode, basicdictsymb, basicdictbin"
   ]
  },
  {
   "cell_type": "code",
   "execution_count": 6,
   "id": "8ee8af87",
   "metadata": {},
   "outputs": [],
   "source": [
    "def decode(message : str, basicdictsymb, basicdictbin):    \n",
    "    dictsymb = basicdictsymb\n",
    "    dictbin = basicdictbin\n",
    "    \n",
    "    # decode the message\n",
    "    i=0\n",
    "    decodedMessage = \"\"\n",
    "    nbsymboles = len(basicdictsymb)\n",
    "    nbBitUsed = int(np.ceil(np.log2(nbsymboles)))\n",
    "    while i < len(message):\n",
    "        currSymb = dictsymb[dictbin.index(message[i])]\n",
    "        decodedMessage += currSymb\n",
    "        # add the new symbol to the dictionary\n",
    "        nbsymboles += 1\n",
    "        nbBitUsed = int(np.ceil(np.log2(nbsymboles)))\n",
    "        dictbin += [\"{:b}\".format(nbsymboles)] \n",
    "        # add 1bit if required\n",
    "        if 2**nbBitUsed > len(dictsymb):\n",
    "            for j in range(nbsymboles):\n",
    "                dictbin[j] = \"{:b}\".format(j).zfill(int(np.ceil(np.log2(nbsymboles))))\n",
    "        if i+1 < len(message):\n",
    "            try:\n",
    "                nextSymb = dictsymb[dictbin.index(message[i+1])]\n",
    "            except:\n",
    "                nextSymb = currSymb\n",
    "        \n",
    "        dictsymb += [currSymb+nextSymb[0]]\n",
    "        i+=1\n",
    "    return decodedMessage\n",
    "        \n",
    "        "
   ]
  },
  {
   "cell_type": "code",
   "execution_count": 10,
   "id": "e6addfc4",
   "metadata": {},
   "outputs": [
    {
     "name": "stdout",
     "output_type": "stream",
     "text": [
      "Taux de compression : \t [0.7619047619047619, 0.6493506493506493, 0.3137254901960784, 0.2692307692307693, 0.4981245311327832]\n",
      "Temps d'exécution : \t [0.0, 0.0005133152008056641, 0.0, 0.0010197162628173828, 0.00728607177734375]\n"
     ]
    }
   ],
   "source": [
    "compressionRatio = []\n",
    "executionTime = []\n",
    "for message in messageList:\n",
    "    startTime = time.time()\n",
    "    encodedMessage = encode(message)\n",
    "    endTime = time.time()\n",
    "    compressionRatio += [ 1 - (len(encodedMessage[0])/len(message))]\n",
    "    executionTime += [endTime - startTime]\n",
    "    \n",
    "    # print(\"Message original : \", message)\n",
    "    # print(\"Message encodé : \", encodedMessage[0])\n",
    "    # print(\"Message décodé : \", decode(encodedMessage[0], encodedMessage[1], encodedMessage[2]))\n",
    "    \n",
    "print(\"Taux de compression : \\t\", compressionRatio)\n",
    "print(\"Temps d'exécution : \\t\", executionTime)\n",
    "    \n",
    "    "
   ]
  }
 ],
 "metadata": {
  "kernelspec": {
   "display_name": "Python 3 (ipykernel)",
   "language": "python",
   "name": "python3"
  },
  "language_info": {
   "codemirror_mode": {
    "name": "ipython",
    "version": 3
   },
   "file_extension": ".py",
   "mimetype": "text/x-python",
   "name": "python",
   "nbconvert_exporter": "python",
   "pygments_lexer": "ipython3",
   "version": "3.11.7"
  }
 },
 "nbformat": 4,
 "nbformat_minor": 5
}
