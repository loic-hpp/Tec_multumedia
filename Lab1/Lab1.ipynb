{
 "cells": [
  {
   "cell_type": "markdown",
   "id": "de0444e0",
   "metadata": {},
   "source": [
    "### Installation des dépendances"
   ]
  },
  {
   "cell_type": "code",
   "execution_count": 48,
   "id": "a1537b70",
   "metadata": {},
   "outputs": [
    {
     "name": "stdout",
     "output_type": "stream",
     "text": [
      "Requirement already satisfied: opencv-python in c:\\users\\loicn\\appdata\\local\\packages\\pythonsoftwarefoundation.python.3.11_qbz5n2kfra8p0\\localcache\\local-packages\\python311\\site-packages (4.9.0.80)\n",
      "Requirement already satisfied: numpy>=1.21.2 in c:\\users\\loicn\\appdata\\local\\packages\\pythonsoftwarefoundation.python.3.11_qbz5n2kfra8p0\\localcache\\local-packages\\python311\\site-packages (from opencv-python) (1.26.3)\n",
      "Note: you may need to restart the kernel to use updated packages.\n",
      "Requirement already satisfied: numpy in c:\\users\\loicn\\appdata\\local\\packages\\pythonsoftwarefoundation.python.3.11_qbz5n2kfra8p0\\localcache\\local-packages\\python311\\site-packages (1.26.3)\n",
      "Note: you may need to restart the kernel to use updated packages.\n",
      "Requirement already satisfied: anytree in c:\\users\\loicn\\appdata\\local\\packages\\pythonsoftwarefoundation.python.3.11_qbz5n2kfra8p0\\localcache\\local-packages\\python311\\site-packages (2.12.1)\n",
      "Requirement already satisfied: six in c:\\users\\loicn\\appdata\\local\\packages\\pythonsoftwarefoundation.python.3.11_qbz5n2kfra8p0\\localcache\\local-packages\\python311\\site-packages (from anytree) (1.16.0)\n",
      "Note: you may need to restart the kernel to use updated packages.\n"
     ]
    }
   ],
   "source": [
    "%pip install opencv-python\n",
    "%pip install numpy\n",
    "%pip install anytree\n",
    "import numpy as np\n",
    "import cv2 as cv\n",
    "from anytree import Node, RenderTree, PreOrderIter, AsciiStyle\n",
    "import copy\n",
    "import os\n",
    "import time"
   ]
  },
  {
   "cell_type": "markdown",
   "id": "622b4240",
   "metadata": {},
   "source": [
    "# Question 2 compression avec LZW"
   ]
  },
  {
   "cell_type": "markdown",
   "id": "decb16af",
   "metadata": {},
   "source": [
    "### Lecture des fichiers images"
   ]
  },
  {
   "cell_type": "code",
   "execution_count": 49,
   "id": "356a7ffe",
   "metadata": {},
   "outputs": [
    {
     "name": "stdout",
     "output_type": "stream",
     "text": [
      "[(255, 255, 3), (256, 512, 3), (476, 458, 3), (500, 500, 3), (379, 430, 3)]\n"
     ]
    }
   ],
   "source": [
    "# Read image\n",
    "shapeArray = []\n",
    "imageInStringArray = []\n",
    "imageInString = []\n",
    "dataPath = \"/data TP1/images/\"\n",
    "currDirectory = os.getcwd()\n",
    "fileList = os.listdir(currDirectory + dataPath)\n",
    "\n",
    "for file in fileList:\n",
    "    filePath = currDirectory + dataPath + file\n",
    "    img = cv.imread(filePath, cv.IMREAD_COLOR)\n",
    "    if img is not None:\n",
    "        # Get the dimensions of the image\n",
    "        shapeArray += [img.shape]\n",
    "        height, width, channels = img.shape\n",
    "        # Reshape the image array to a 2D array where each row represents a pixel\n",
    "        reshaped_img = img.reshape((height * width, channels))\n",
    "        # Convert the reshaped array to an array of string\n",
    "        imageInString = [str(char) for char in reshaped_img.flatten()]\n",
    "    imageInStringArray += [imageInString]\n",
    "    \n",
    "print(shapeArray)"
   ]
  },
  {
   "cell_type": "markdown",
   "id": "3f08d924",
   "metadata": {},
   "source": [
    "### Lecture des fichiers texte"
   ]
  },
  {
   "cell_type": "code",
   "execution_count": 50,
   "id": "cc694f8a",
   "metadata": {},
   "outputs": [],
   "source": [
    "# Read txt files\n",
    "messageList = []\n",
    "dataPath = \"/data TP1/textes/\"\n",
    "currDirectory = os.getcwd()\n",
    "fileList = os.listdir(currDirectory + dataPath)\n",
    "for file in fileList:\n",
    "    filePath = currDirectory + dataPath + file\n",
    "    if file.endswith(\".txt\"):\n",
    "        with open(filePath, 'r') as f:\n",
    "            messageList += [f.read()]\n",
    "messageList += imageInStringArray            "
   ]
  },
  {
   "cell_type": "markdown",
   "id": "bab9a08c",
   "metadata": {},
   "source": [
    "### Fonction qui effectue le codage LZW"
   ]
  },
  {
   "cell_type": "code",
   "execution_count": 51,
   "id": "2b5620ad",
   "metadata": {},
   "outputs": [],
   "source": [
    "def encode(message : str):\n",
    "    dictsymb =[message[0]]\n",
    "    dictbin = [\"{:b}\".format(0)]\n",
    "    nbsymboles = 1\n",
    "    for i in range(1,len(message)):\n",
    "        if message[i] not in dictsymb:\n",
    "            dictsymb += [message[i]]\n",
    "            dictbin += [\"{:b}\".format(nbsymboles)] \n",
    "            nbsymboles +=1       \n",
    "    for i in range(nbsymboles):\n",
    "        dictbin[i] = \"{:b}\".format(i).zfill(int(np.ceil(np.log2(nbsymboles))))  \n",
    "        dictsymb.sort()\n",
    "    basicdictsymb = copy.deepcopy(dictsymb)\n",
    "    basicdictbin = copy.deepcopy(dictbin)\n",
    "        \n",
    "    #encode\n",
    "    i=0\n",
    "    messageCode = []\n",
    "    longueur = 0\n",
    "    while i < len(message):\n",
    "        precsouschaine = message[i] #substring to be coded\n",
    "        souschaine = message[i] #substring to be coded + 1 character (for the dictionary)\n",
    "\n",
    "        # Look for the longest substring. We add one character at a time.\n",
    "        while souschaine in dictsymb and i < len(message):\n",
    "            i += 1\n",
    "            precsouschaine = souschaine\n",
    "            if i < len(message):  #If we are not at the end of the message\n",
    "                souschaine += message[i]  \n",
    "\n",
    "        # Coding of the longest substring using the dictionary\n",
    "        codebinaire = [dictbin[dictsymb.index(precsouschaine)]]\n",
    "        messageCode += codebinaire\n",
    "        longueur += len(codebinaire[0]) \n",
    "        # Add encoded substring + next symbol in dictionary\n",
    "        if i < len(message):\n",
    "            dictsymb += [souschaine]\n",
    "            dictbin += [\"{:b}\".format(nbsymboles)] \n",
    "            nbsymboles +=1\n",
    "\n",
    "        #Add 1 bit if required\n",
    "        if np.ceil(np.log2(nbsymboles)) > len(messageCode[-1]):\n",
    "            for j in range(nbsymboles):\n",
    "                dictbin[j] = \"{:b}\".format(j).zfill(int(np.ceil(np.log2(nbsymboles))))\n",
    "    return messageCode, basicdictsymb, basicdictbin"
   ]
  },
  {
   "cell_type": "markdown",
   "id": "e477e7b8",
   "metadata": {},
   "source": [
    "Le code de décodage ci-dessous permet de décoder un message(string)  codé avec LZW il est aussi fonctionnel pour les images.\n",
    "On ne recrée pas l'image mais on garantit que la chaîne de caractère reconstituée correspond à celle fournie en paramètre"
   ]
  },
  {
   "cell_type": "code",
   "execution_count": 52,
   "id": "8ee8af87",
   "metadata": {},
   "outputs": [],
   "source": [
    "def decode(message : str, basicdictsymb, basicdictbin):\n",
    "    dictsymb = basicdictsymb\n",
    "    dictbin = basicdictbin\n",
    "\n",
    "    # decode the message\n",
    "    i=0\n",
    "    decodedMessage = \"\"\n",
    "    nbsymboles = len(basicdictsymb)\n",
    "    nbBitUsed = int(np.ceil(np.log2(nbsymboles)))\n",
    "    while i < len(message):\n",
    "        currSymb = dictsymb[dictbin.index(message[i])]\n",
    "        decodedMessage += currSymb\n",
    "        # add the new symbol to the dictionary\n",
    "        nbsymboles += 1\n",
    "        nbBitUsed = int(np.ceil(np.log2(nbsymboles)))\n",
    "        dictbin += [\"{:b}\".format(nbsymboles)]\n",
    "        # add 1bit if required\n",
    "        if 2**nbBitUsed > len(dictsymb):\n",
    "            for j in range(nbsymboles):\n",
    "                dictbin[j] = \"{:b}\".format(j).zfill(int(np.ceil(np.log2(nbsymboles))))\n",
    "        if i+1 < len(message):\n",
    "            try:\n",
    "                nextSymb = dictsymb[dictbin.index(message[i+1])]\n",
    "            except:\n",
    "                nextSymb = currSymb\n",
    "\n",
    "        dictsymb += [currSymb+nextSymb[0]]\n",
    "        i+=1\n",
    "    return decodedMessage\n",
    "\n"
   ]
  },
  {
   "cell_type": "markdown",
   "id": "3f618dd4",
   "metadata": {},
   "source": [
    "# Question 3 implémentation d'un autre algorithme : HUFFMAN"
   ]
  },
  {
   "cell_type": "code",
   "execution_count": 70,
   "id": "0c3d30b1",
   "metadata": {},
   "outputs": [],
   "source": [
    "def huffmanEncoding(message : str) -> str:\n",
    "    ArbreSymb =[[message[0], message.count(message[0]), Node(message[0])]] \n",
    "    # dict got from the tree\n",
    "    dictionnaire = [[message[0], '']]\n",
    "    nbsymboles = 1\n",
    "\n",
    "    # Search for the leaves of the tree\n",
    "    for i in range(1,len(message)):\n",
    "        if not list(filter(lambda x: x[0] == message[i], ArbreSymb)):\n",
    "            ArbreSymb += [[message[i], message.count(message[i]),Node(message[i])]]\n",
    "            dictionnaire += [[message[i], '']]\n",
    "            nbsymboles += 1\n",
    "  \n",
    "    ArbreSymb = sorted(ArbreSymb, key=lambda x: x[1])\n",
    "    \n",
    "\n",
    "    while len(ArbreSymb) > 1:\n",
    "        # Fusion of the two nodes with the lowest weight\n",
    "        symbfusionnes = ArbreSymb[0][0] + ArbreSymb[1][0] \n",
    "        # Create a new node\n",
    "        noeud = Node(symbfusionnes)\n",
    "        temp = [symbfusionnes, ArbreSymb[0][1] + ArbreSymb[1][1], noeud]\n",
    "        # Connect the new node to its parents\n",
    "        ArbreSymb[0][2].parent = noeud\n",
    "        ArbreSymb[1][2].parent = noeud\n",
    "        # Remove the merged nodes from the list of nodes to be merged.\n",
    "        del ArbreSymb[0:2]\n",
    "        # Add the new node to the list and sort it.\n",
    "        ArbreSymb += [temp]\n",
    "        ArbreSymb = sorted(ArbreSymb, key=lambda x: x[1])  \n",
    "\n",
    "    ArbreCodes = Node('')\n",
    "    noeud = ArbreCodes\n",
    "    parcoursprefix = [node for node in PreOrderIter(ArbreSymb[0][2])]\n",
    "    parcoursprefix = parcoursprefix[1:len(parcoursprefix)] #ignore root\n",
    "\n",
    "    Prevdepth = 0 #follow depth of the tree\n",
    "    for node in parcoursprefix:  # Node list \n",
    "        if Prevdepth < node.depth: # We go deeper in the tree, so we put a 0\n",
    "            temp = Node(noeud.name + '0')\n",
    "            noeud.children = [temp]\n",
    "            if node.children: # Advance the \"pointer\" if the added node has children.\n",
    "                noeud = temp\n",
    "        elif Prevdepth == node.depth: # Same depth, so we put a 1\n",
    "            temp = Node(noeud.name + '1')\n",
    "            noeud.children = [noeud.children[0], temp]  # Add second child\n",
    "            if node.children: # Advance the \"pointer\" if the added node has children.\n",
    "                noeud = temp\n",
    "        else:\n",
    "            for i in range(Prevdepth-node.depth): # Another branch so we put 1\n",
    "                noeud = noeud.parent #OWe go back to the parent node to take another branch\n",
    "            temp = Node(noeud.name + '1')\n",
    "            noeud.children = [noeud.children[0], temp]\n",
    "            if node.children:\n",
    "                noeud = temp\n",
    "\n",
    "        Prevdepth = node.depth    \n",
    "\n",
    "    ArbreSymbList = [node for node in PreOrderIter(ArbreSymb[0][2])]\n",
    "    ArbreCodeList = [node for node in PreOrderIter(ArbreCodes)]\n",
    "\n",
    "    for i in range(len(ArbreSymbList)):\n",
    "        if ArbreSymbList[i].is_leaf: # Generate leaf dictionary\n",
    "            temp = list(filter(lambda x: x[0] == ArbreSymbList[i].name, dictionnaire))\n",
    "            if temp:\n",
    "                indice = dictionnaire.index(temp[0])\n",
    "                dictionnaire[indice][1] = ArbreCodeList[i].name\n",
    "\n",
    "    messageCode = []\n",
    "    longueur = 0 \n",
    "    for i in range(len(message)):\n",
    "        substitution = list(filter(lambda x: x[0] == message[i], dictionnaire))\n",
    "        messageCode += [substitution[0][1]]\n",
    "        longueur += len(substitution[0][1]) \n",
    "    \n",
    "    return messageCode"
   ]
  },
  {
   "cell_type": "markdown",
   "id": "302890ff",
   "metadata": {},
   "source": [
    "### Fonction utilisée pour afficher les taux de compression et le temps d'exécution on passe en paramètre le type de l'algorithme à exécuter"
   ]
  },
  {
   "cell_type": "code",
   "execution_count": 54,
   "id": "746d8689",
   "metadata": {},
   "outputs": [],
   "source": [
    "from enum import Enum\n",
    "class Algo(Enum):\n",
    "    LZW = 1\n",
    "    HUFFMAN = 2\n",
    "def printCompressionStat(algo : Algo) :\n",
    "    compressionRatio = []\n",
    "    executionTime = []\n",
    "    encodeFunction = encode if algo == Algo.LZW else huffmanEncoding\n",
    "    for message in messageList:\n",
    "        startTime = time.time()\n",
    "        encodedMessage = encodeFunction(message)\n",
    "        endTime = time.time()\n",
    "        encodedMessage = encodedMessage[0] if algo == Algo.LZW else encodedMessage\n",
    "        compressionRatio += [ 1 - (len(encodedMessage[0])/len(message))]\n",
    "        executionTime += [endTime - startTime]\n",
    "    print(\"Taux de compression : \\t\", compressionRatio)\n",
    "    print(\"Temps d'exécution : \\t\", executionTime)"
   ]
  },
  {
   "cell_type": "markdown",
   "id": "a9f4389f",
   "metadata": {},
   "source": [
    "### Test pour vérifier que le décodage est fonctionnel en LZW"
   ]
  },
  {
   "cell_type": "code",
   "execution_count": 55,
   "id": "3e51d650",
   "metadata": {},
   "outputs": [
    {
     "name": "stdout",
     "output_type": "stream",
     "text": [
      "Le décodage est correct pour tous les messages.\n"
     ]
    }
   ],
   "source": [
    "allTestsPassed = True\n",
    "# Not all photos are selected due to running time\n",
    "testMessage = messageList[0:4] + [messageList[6]]\n",
    "for message in testMessage:\n",
    "    encodedMessage = encode(message)\n",
    "    decodedMessage = decode(encodedMessage[0], encodedMessage[1], encodedMessage[2])\n",
    "    messageInString = \"\".join(message)\n",
    "    allTestsPassed = allTestsPassed and (decodedMessage == messageInString)\n",
    "\n",
    "if(allTestsPassed):\n",
    "    print(\"Le décodage est correct pour tous les messages.\")\n",
    "else:\n",
    "    print(\"Le décodage n'est pas correct pour tous les messages.\")\n"
   ]
  },
  {
   "cell_type": "markdown",
   "id": "c5d70464",
   "metadata": {},
   "source": [
    "### Afficher les résultats de la compression avec LZW"
   ]
  },
  {
   "cell_type": "code",
   "execution_count": 56,
   "id": "e6addfc4",
   "metadata": {},
   "outputs": [
    {
     "name": "stdout",
     "output_type": "stream",
     "text": [
      "Taux de compression : \t [0.9880952380952381, 0.974025974025974, 0.9215686274509804, 0.9725274725274725, 0.9954988747186797, 0.9999589901320005, 0.9999974568684896, 0.9999877680329774, 0.9999893333333333, 0.9999897731688859]\n",
      "Temps d'exécution : \t [0.0, 0.0005142688751220703, 0.0, 0.0007731914520263672, 0.0063936710357666016, 62.572556257247925, 0.6318004131317139, 340.4256331920624, 872.3666620254517, 2.071165084838867]\n"
     ]
    }
   ],
   "source": [
    "printCompressionStat(Algo.LZW)\n",
    "    \n",
    "    "
   ]
  },
  {
   "cell_type": "markdown",
   "id": "79e2e1b3",
   "metadata": {},
   "source": [
    "### Afficher les résultats de la compression avec Huffman"
   ]
  },
  {
   "cell_type": "code",
   "execution_count": 57,
   "id": "18308269",
   "metadata": {},
   "outputs": [
    {
     "name": "stdout",
     "output_type": "stream",
     "text": [
      "Taux de compression : \t [0.9880952380952381, 0.974025974025974, 0.9215686274509804, 0.9615384615384616, 0.9932483120780196, 0.9999846212995002, 1.0, 0.9999984710041222, 0.9999906666666667, 0.9999979546337772]\n",
      "Temps d'exécution : \t [0.0005064010620117188, 0.0, 0.0005152225494384766, 0.0010251998901367188, 0.0335383415222168, 4.9135801792144775, 0.21778416633605957, 16.087618350982666, 18.710458755493164, 1.6999592781066895]\n"
     ]
    }
   ],
   "source": [
    "printCompressionStat(Algo.HUFFMAN)"
   ]
  }
 ],
 "metadata": {
  "kernelspec": {
   "display_name": "Python 3 (ipykernel)",
   "language": "python",
   "name": "python3"
  },
  "language_info": {
   "codemirror_mode": {
    "name": "ipython",
    "version": 3
   },
   "file_extension": ".py",
   "mimetype": "text/x-python",
   "name": "python",
   "nbconvert_exporter": "python",
   "pygments_lexer": "ipython3",
   "version": "3.11.7"
  }
 },
 "nbformat": 4,
 "nbformat_minor": 5
}
